{
 "cells": [
  {
   "cell_type": "code",
   "execution_count": 2,
   "id": "initial_id",
   "metadata": {
    "collapsed": true,
    "ExecuteTime": {
     "end_time": "2024-03-12T16:09:43.250569Z",
     "start_time": "2024-03-12T16:09:40.551260Z"
    }
   },
   "outputs": [],
   "source": [
    "import pandas as pd\n",
    "import dask\n",
    "import dask.dataframe\n"
   ]
  },
  {
   "cell_type": "code",
   "execution_count": 13,
   "outputs": [],
   "source": [
    "df = dask.dataframe.read_csv(\"/Users/cancokisler/Downloads/Datasets/Moral Machine Data/SharedResponses.csv\", dtype={'Boy': 'float64',\n",
    "                                                                                                                    'Cat': 'float64',\n",
    "                                                                                                                    'Criminal': 'float64',\n",
    "                                                                                                                    'DescriptionShown': 'float64',\n",
    "                                                                                                                    'DiffNumberOFCharacters': 'float64',\n",
    "                                                                                                                    'Dog': 'float64',\n",
    "                                                                                                                    'FemaleAthlete': 'float64',\n",
    "                                                                                                                    'FemaleDoctor': 'float64',\n",
    "                                                                                                                    'FemaleExecutive': 'float64',\n",
    "                                                                                                                    'Girl': 'float64',\n",
    "                                                                                                                    'Homeless': 'float64',\n",
    "                                                                                                                    'LargeMan': 'float64',\n",
    "                                                                                                                    'LargeWoman': 'float64',\n",
    "                                                                                                                    'LeftHand': 'float64',\n",
    "                                                                                                                    'MaleAthlete': 'float64',\n",
    "                                                                                                                    'MaleDoctor': 'float64',\n",
    "                                                                                                                    'MaleExecutive': 'float64',\n",
    "                                                                                                                    'Man': 'float64',\n",
    "                                                                                                                    'NumberOfCharacters': 'float64',\n",
    "                                                                                                                    'OldMan': 'float64',\n",
    "                                                                                                                    'OldWoman': 'float64',\n",
    "                                                                                                                    'Pregnant': 'float64',\n",
    "                                                                                                                    'Stroller': 'float64',\n",
    "                                                                                                                    'UserID': 'float64',\n",
    "                                                                                                                    'Woman': 'float64'})"
   ],
   "metadata": {
    "collapsed": false,
    "ExecuteTime": {
     "end_time": "2024-03-12T16:11:24.848072Z",
     "start_time": "2024-03-12T16:11:24.810667Z"
    }
   },
   "id": "62363c46cfeef689"
  },
  {
   "cell_type": "code",
   "execution_count": 14,
   "outputs": [
    {
     "data": {
      "text/plain": "          ResponseID              ExtendedSessionID        UserID  \\\n0  2222bRQqBTZ6dLnPH    32757157_6999801415950060.0  6.999801e+15   \n1  2222sJk4DcoqXXi98        1043988516_3525281295.0  3.525281e+09   \n2  2223CNmvTr2Coj4wp  -1613944085_422160228641876.0  4.221602e+14   \n3  2223Xu54ufgjcyMR3   1425316635_327833569077076.0  3.278336e+14   \n4  2223jMWDEGNeszivb  -1683127088_785070916172117.0  7.850709e+14   \n\n   ScenarioOrder  Intervention  PedPed  Barrier  CrossingSignal  \\\n0              7             0       0        0               1   \n1              2             0       0        0               0   \n2             10             0       1        0               1   \n3             11             0       0        1               0   \n4              8             0       1        0               2   \n\n  AttributeLevel ScenarioTypeStrict  ... LargeMan Criminal MaleExecutive  \\\n0            Fit            Fitness  ...      0.0      0.0           0.0   \n1           Rand             Random  ...      0.0      0.0           1.0   \n2         Female             Gender  ...      0.0      0.0           0.0   \n3            Old                Age  ...      0.0      0.0           0.0   \n4           More        Utilitarian  ...      0.0      1.0           1.0   \n\n   FemaleExecutive  FemaleAthlete  MaleAthlete  FemaleDoctor MaleDoctor  Dog  \\\n0              0.0            1.0          2.0           0.0        0.0  0.0   \n1              0.0            0.0          0.0           0.0        0.0  0.0   \n2              1.0            0.0          0.0           0.0        0.0  0.0   \n3              0.0            0.0          0.0           0.0        0.0  0.0   \n4              0.0            1.0          0.0           0.0        0.0  1.0   \n\n   Cat  \n0  0.0  \n1  0.0  \n2  0.0  \n3  0.0  \n4  0.0  \n\n[5 rows x 41 columns]",
      "text/html": "<div>\n<style scoped>\n    .dataframe tbody tr th:only-of-type {\n        vertical-align: middle;\n    }\n\n    .dataframe tbody tr th {\n        vertical-align: top;\n    }\n\n    .dataframe thead th {\n        text-align: right;\n    }\n</style>\n<table border=\"1\" class=\"dataframe\">\n  <thead>\n    <tr style=\"text-align: right;\">\n      <th></th>\n      <th>ResponseID</th>\n      <th>ExtendedSessionID</th>\n      <th>UserID</th>\n      <th>ScenarioOrder</th>\n      <th>Intervention</th>\n      <th>PedPed</th>\n      <th>Barrier</th>\n      <th>CrossingSignal</th>\n      <th>AttributeLevel</th>\n      <th>ScenarioTypeStrict</th>\n      <th>...</th>\n      <th>LargeMan</th>\n      <th>Criminal</th>\n      <th>MaleExecutive</th>\n      <th>FemaleExecutive</th>\n      <th>FemaleAthlete</th>\n      <th>MaleAthlete</th>\n      <th>FemaleDoctor</th>\n      <th>MaleDoctor</th>\n      <th>Dog</th>\n      <th>Cat</th>\n    </tr>\n  </thead>\n  <tbody>\n    <tr>\n      <th>0</th>\n      <td>2222bRQqBTZ6dLnPH</td>\n      <td>32757157_6999801415950060.0</td>\n      <td>6.999801e+15</td>\n      <td>7</td>\n      <td>0</td>\n      <td>0</td>\n      <td>0</td>\n      <td>1</td>\n      <td>Fit</td>\n      <td>Fitness</td>\n      <td>...</td>\n      <td>0.0</td>\n      <td>0.0</td>\n      <td>0.0</td>\n      <td>0.0</td>\n      <td>1.0</td>\n      <td>2.0</td>\n      <td>0.0</td>\n      <td>0.0</td>\n      <td>0.0</td>\n      <td>0.0</td>\n    </tr>\n    <tr>\n      <th>1</th>\n      <td>2222sJk4DcoqXXi98</td>\n      <td>1043988516_3525281295.0</td>\n      <td>3.525281e+09</td>\n      <td>2</td>\n      <td>0</td>\n      <td>0</td>\n      <td>0</td>\n      <td>0</td>\n      <td>Rand</td>\n      <td>Random</td>\n      <td>...</td>\n      <td>0.0</td>\n      <td>0.0</td>\n      <td>1.0</td>\n      <td>0.0</td>\n      <td>0.0</td>\n      <td>0.0</td>\n      <td>0.0</td>\n      <td>0.0</td>\n      <td>0.0</td>\n      <td>0.0</td>\n    </tr>\n    <tr>\n      <th>2</th>\n      <td>2223CNmvTr2Coj4wp</td>\n      <td>-1613944085_422160228641876.0</td>\n      <td>4.221602e+14</td>\n      <td>10</td>\n      <td>0</td>\n      <td>1</td>\n      <td>0</td>\n      <td>1</td>\n      <td>Female</td>\n      <td>Gender</td>\n      <td>...</td>\n      <td>0.0</td>\n      <td>0.0</td>\n      <td>0.0</td>\n      <td>1.0</td>\n      <td>0.0</td>\n      <td>0.0</td>\n      <td>0.0</td>\n      <td>0.0</td>\n      <td>0.0</td>\n      <td>0.0</td>\n    </tr>\n    <tr>\n      <th>3</th>\n      <td>2223Xu54ufgjcyMR3</td>\n      <td>1425316635_327833569077076.0</td>\n      <td>3.278336e+14</td>\n      <td>11</td>\n      <td>0</td>\n      <td>0</td>\n      <td>1</td>\n      <td>0</td>\n      <td>Old</td>\n      <td>Age</td>\n      <td>...</td>\n      <td>0.0</td>\n      <td>0.0</td>\n      <td>0.0</td>\n      <td>0.0</td>\n      <td>0.0</td>\n      <td>0.0</td>\n      <td>0.0</td>\n      <td>0.0</td>\n      <td>0.0</td>\n      <td>0.0</td>\n    </tr>\n    <tr>\n      <th>4</th>\n      <td>2223jMWDEGNeszivb</td>\n      <td>-1683127088_785070916172117.0</td>\n      <td>7.850709e+14</td>\n      <td>8</td>\n      <td>0</td>\n      <td>1</td>\n      <td>0</td>\n      <td>2</td>\n      <td>More</td>\n      <td>Utilitarian</td>\n      <td>...</td>\n      <td>0.0</td>\n      <td>1.0</td>\n      <td>1.0</td>\n      <td>0.0</td>\n      <td>1.0</td>\n      <td>0.0</td>\n      <td>0.0</td>\n      <td>0.0</td>\n      <td>1.0</td>\n      <td>0.0</td>\n    </tr>\n  </tbody>\n</table>\n<p>5 rows × 41 columns</p>\n</div>"
     },
     "execution_count": 14,
     "metadata": {},
     "output_type": "execute_result"
    }
   ],
   "source": [
    "df.head()"
   ],
   "metadata": {
    "collapsed": false,
    "ExecuteTime": {
     "end_time": "2024-03-12T16:11:30.006199Z",
     "start_time": "2024-03-12T16:11:28.937761Z"
    }
   },
   "id": "dc4437647cab88ed"
  },
  {
   "cell_type": "code",
   "execution_count": 15,
   "outputs": [],
   "source": [
    "df_dropped = df.dropna()"
   ],
   "metadata": {
    "collapsed": false,
    "ExecuteTime": {
     "end_time": "2024-03-12T16:11:32.146055Z",
     "start_time": "2024-03-12T16:11:32.129345Z"
    }
   },
   "id": "902f201b242010e7"
  },
  {
   "cell_type": "code",
   "execution_count": 16,
   "outputs": [],
   "source": [
    "df_new = df_dropped.drop(['ResponseID', 'ExtendedSessionID', 'UserID', 'Template'], axis=1)"
   ],
   "metadata": {
    "collapsed": false,
    "ExecuteTime": {
     "end_time": "2024-03-12T16:11:32.938680Z",
     "start_time": "2024-03-12T16:11:32.931851Z"
    }
   },
   "id": "13220be55ed9282c"
  },
  {
   "cell_type": "code",
   "execution_count": 17,
   "outputs": [
    {
     "data": {
      "text/plain": "   ScenarioOrder  Intervention  PedPed  Barrier  CrossingSignal  \\\n0              7             0       0        0               1   \n2             10             0       1        0               1   \n3             11             0       0        1               0   \n4              8             0       1        0               2   \n5             11             0       0        1               0   \n\n  AttributeLevel ScenarioTypeStrict   ScenarioType DefaultChoice  \\\n0            Fit            Fitness        Fitness           Fit   \n2         Female             Gender         Gender          Male   \n3            Old                Age            Age         Young   \n4           More        Utilitarian    Utilitarian          More   \n5            Low      Social Status  Social Status          High   \n\n  NonDefaultChoice  ...  LargeMan  Criminal  MaleExecutive  FemaleExecutive  \\\n0              Fat  ...       0.0       0.0            0.0              0.0   \n2           Female  ...       0.0       0.0            0.0              1.0   \n3              Old  ...       0.0       0.0            0.0              0.0   \n4             Less  ...       0.0       1.0            1.0              0.0   \n5              Low  ...       0.0       0.0            0.0              0.0   \n\n   FemaleAthlete  MaleAthlete FemaleDoctor  MaleDoctor  Dog  Cat  \n0            1.0          2.0          0.0         0.0  0.0  0.0  \n2            0.0          0.0          0.0         0.0  0.0  0.0  \n3            0.0          0.0          0.0         0.0  0.0  0.0  \n4            1.0          0.0          0.0         0.0  1.0  0.0  \n5            0.0          0.0          0.0         0.0  0.0  0.0  \n\n[5 rows x 37 columns]",
      "text/html": "<div>\n<style scoped>\n    .dataframe tbody tr th:only-of-type {\n        vertical-align: middle;\n    }\n\n    .dataframe tbody tr th {\n        vertical-align: top;\n    }\n\n    .dataframe thead th {\n        text-align: right;\n    }\n</style>\n<table border=\"1\" class=\"dataframe\">\n  <thead>\n    <tr style=\"text-align: right;\">\n      <th></th>\n      <th>ScenarioOrder</th>\n      <th>Intervention</th>\n      <th>PedPed</th>\n      <th>Barrier</th>\n      <th>CrossingSignal</th>\n      <th>AttributeLevel</th>\n      <th>ScenarioTypeStrict</th>\n      <th>ScenarioType</th>\n      <th>DefaultChoice</th>\n      <th>NonDefaultChoice</th>\n      <th>...</th>\n      <th>LargeMan</th>\n      <th>Criminal</th>\n      <th>MaleExecutive</th>\n      <th>FemaleExecutive</th>\n      <th>FemaleAthlete</th>\n      <th>MaleAthlete</th>\n      <th>FemaleDoctor</th>\n      <th>MaleDoctor</th>\n      <th>Dog</th>\n      <th>Cat</th>\n    </tr>\n  </thead>\n  <tbody>\n    <tr>\n      <th>0</th>\n      <td>7</td>\n      <td>0</td>\n      <td>0</td>\n      <td>0</td>\n      <td>1</td>\n      <td>Fit</td>\n      <td>Fitness</td>\n      <td>Fitness</td>\n      <td>Fit</td>\n      <td>Fat</td>\n      <td>...</td>\n      <td>0.0</td>\n      <td>0.0</td>\n      <td>0.0</td>\n      <td>0.0</td>\n      <td>1.0</td>\n      <td>2.0</td>\n      <td>0.0</td>\n      <td>0.0</td>\n      <td>0.0</td>\n      <td>0.0</td>\n    </tr>\n    <tr>\n      <th>2</th>\n      <td>10</td>\n      <td>0</td>\n      <td>1</td>\n      <td>0</td>\n      <td>1</td>\n      <td>Female</td>\n      <td>Gender</td>\n      <td>Gender</td>\n      <td>Male</td>\n      <td>Female</td>\n      <td>...</td>\n      <td>0.0</td>\n      <td>0.0</td>\n      <td>0.0</td>\n      <td>1.0</td>\n      <td>0.0</td>\n      <td>0.0</td>\n      <td>0.0</td>\n      <td>0.0</td>\n      <td>0.0</td>\n      <td>0.0</td>\n    </tr>\n    <tr>\n      <th>3</th>\n      <td>11</td>\n      <td>0</td>\n      <td>0</td>\n      <td>1</td>\n      <td>0</td>\n      <td>Old</td>\n      <td>Age</td>\n      <td>Age</td>\n      <td>Young</td>\n      <td>Old</td>\n      <td>...</td>\n      <td>0.0</td>\n      <td>0.0</td>\n      <td>0.0</td>\n      <td>0.0</td>\n      <td>0.0</td>\n      <td>0.0</td>\n      <td>0.0</td>\n      <td>0.0</td>\n      <td>0.0</td>\n      <td>0.0</td>\n    </tr>\n    <tr>\n      <th>4</th>\n      <td>8</td>\n      <td>0</td>\n      <td>1</td>\n      <td>0</td>\n      <td>2</td>\n      <td>More</td>\n      <td>Utilitarian</td>\n      <td>Utilitarian</td>\n      <td>More</td>\n      <td>Less</td>\n      <td>...</td>\n      <td>0.0</td>\n      <td>1.0</td>\n      <td>1.0</td>\n      <td>0.0</td>\n      <td>1.0</td>\n      <td>0.0</td>\n      <td>0.0</td>\n      <td>0.0</td>\n      <td>1.0</td>\n      <td>0.0</td>\n    </tr>\n    <tr>\n      <th>5</th>\n      <td>11</td>\n      <td>0</td>\n      <td>0</td>\n      <td>1</td>\n      <td>0</td>\n      <td>Low</td>\n      <td>Social Status</td>\n      <td>Social Status</td>\n      <td>High</td>\n      <td>Low</td>\n      <td>...</td>\n      <td>0.0</td>\n      <td>0.0</td>\n      <td>0.0</td>\n      <td>0.0</td>\n      <td>0.0</td>\n      <td>0.0</td>\n      <td>0.0</td>\n      <td>0.0</td>\n      <td>0.0</td>\n      <td>0.0</td>\n    </tr>\n  </tbody>\n</table>\n<p>5 rows × 37 columns</p>\n</div>"
     },
     "execution_count": 17,
     "metadata": {},
     "output_type": "execute_result"
    }
   ],
   "source": [
    "df_new.head()"
   ],
   "metadata": {
    "collapsed": false,
    "ExecuteTime": {
     "end_time": "2024-03-12T16:11:34.678027Z",
     "start_time": "2024-03-12T16:11:33.624503Z"
    }
   },
   "id": "bac79546e9bffab1"
  },
  {
   "cell_type": "code",
   "execution_count": null,
   "outputs": [],
   "source": [],
   "metadata": {
    "collapsed": false
   },
   "id": "838414298f3233af"
  },
  {
   "cell_type": "code",
   "execution_count": 18,
   "outputs": [],
   "source": [
    "df_new['AttributeLevel'] = df_new['AttributeLevel'].astype('category')\n",
    "df_new['ScenarioTypeStrict'] = df_new['ScenarioTypeStrict'].astype('category')\n",
    "df_new['ScenarioType'] = df_new['ScenarioType'].astype('category')\n",
    "df_new['DefaultChoice'] = df_new['DefaultChoice'].astype('category')\n",
    "df_new['UserCountry3'] = df_new['UserCountry3'].astype('category')\n",
    "df_new['NonDefaultChoice'] = df_new['NonDefaultChoice'].astype('category')"
   ],
   "metadata": {
    "collapsed": false,
    "ExecuteTime": {
     "end_time": "2024-03-12T16:15:09.699643Z",
     "start_time": "2024-03-12T16:15:09.647117Z"
    }
   },
   "id": "7bf164e5c4e222a0"
  },
  {
   "cell_type": "code",
   "execution_count": 20,
   "outputs": [
    {
     "data": {
      "text/plain": "   ScenarioOrder  Intervention  PedPed  Barrier  CrossingSignal  \\\n0              7             0       0        0               1   \n2             10             0       1        0               1   \n3             11             0       0        1               0   \n4              8             0       1        0               2   \n5             11             0       0        1               0   \n\n  AttributeLevel ScenarioTypeStrict   ScenarioType DefaultChoice  \\\n0            Fit            Fitness        Fitness           Fit   \n2         Female             Gender         Gender          Male   \n3            Old                Age            Age         Young   \n4           More        Utilitarian    Utilitarian          More   \n5            Low      Social Status  Social Status          High   \n\n  NonDefaultChoice  ...  LargeMan  Criminal  MaleExecutive  FemaleExecutive  \\\n0              Fat  ...       0.0       0.0            0.0              0.0   \n2           Female  ...       0.0       0.0            0.0              1.0   \n3              Old  ...       0.0       0.0            0.0              0.0   \n4             Less  ...       0.0       1.0            1.0              0.0   \n5              Low  ...       0.0       0.0            0.0              0.0   \n\n   FemaleAthlete  MaleAthlete FemaleDoctor  MaleDoctor  Dog  Cat  \n0            1.0          2.0          0.0         0.0  0.0  0.0  \n2            0.0          0.0          0.0         0.0  0.0  0.0  \n3            0.0          0.0          0.0         0.0  0.0  0.0  \n4            1.0          0.0          0.0         0.0  1.0  0.0  \n5            0.0          0.0          0.0         0.0  0.0  0.0  \n\n[5 rows x 37 columns]",
      "text/html": "<div>\n<style scoped>\n    .dataframe tbody tr th:only-of-type {\n        vertical-align: middle;\n    }\n\n    .dataframe tbody tr th {\n        vertical-align: top;\n    }\n\n    .dataframe thead th {\n        text-align: right;\n    }\n</style>\n<table border=\"1\" class=\"dataframe\">\n  <thead>\n    <tr style=\"text-align: right;\">\n      <th></th>\n      <th>ScenarioOrder</th>\n      <th>Intervention</th>\n      <th>PedPed</th>\n      <th>Barrier</th>\n      <th>CrossingSignal</th>\n      <th>AttributeLevel</th>\n      <th>ScenarioTypeStrict</th>\n      <th>ScenarioType</th>\n      <th>DefaultChoice</th>\n      <th>NonDefaultChoice</th>\n      <th>...</th>\n      <th>LargeMan</th>\n      <th>Criminal</th>\n      <th>MaleExecutive</th>\n      <th>FemaleExecutive</th>\n      <th>FemaleAthlete</th>\n      <th>MaleAthlete</th>\n      <th>FemaleDoctor</th>\n      <th>MaleDoctor</th>\n      <th>Dog</th>\n      <th>Cat</th>\n    </tr>\n  </thead>\n  <tbody>\n    <tr>\n      <th>0</th>\n      <td>7</td>\n      <td>0</td>\n      <td>0</td>\n      <td>0</td>\n      <td>1</td>\n      <td>Fit</td>\n      <td>Fitness</td>\n      <td>Fitness</td>\n      <td>Fit</td>\n      <td>Fat</td>\n      <td>...</td>\n      <td>0.0</td>\n      <td>0.0</td>\n      <td>0.0</td>\n      <td>0.0</td>\n      <td>1.0</td>\n      <td>2.0</td>\n      <td>0.0</td>\n      <td>0.0</td>\n      <td>0.0</td>\n      <td>0.0</td>\n    </tr>\n    <tr>\n      <th>2</th>\n      <td>10</td>\n      <td>0</td>\n      <td>1</td>\n      <td>0</td>\n      <td>1</td>\n      <td>Female</td>\n      <td>Gender</td>\n      <td>Gender</td>\n      <td>Male</td>\n      <td>Female</td>\n      <td>...</td>\n      <td>0.0</td>\n      <td>0.0</td>\n      <td>0.0</td>\n      <td>1.0</td>\n      <td>0.0</td>\n      <td>0.0</td>\n      <td>0.0</td>\n      <td>0.0</td>\n      <td>0.0</td>\n      <td>0.0</td>\n    </tr>\n    <tr>\n      <th>3</th>\n      <td>11</td>\n      <td>0</td>\n      <td>0</td>\n      <td>1</td>\n      <td>0</td>\n      <td>Old</td>\n      <td>Age</td>\n      <td>Age</td>\n      <td>Young</td>\n      <td>Old</td>\n      <td>...</td>\n      <td>0.0</td>\n      <td>0.0</td>\n      <td>0.0</td>\n      <td>0.0</td>\n      <td>0.0</td>\n      <td>0.0</td>\n      <td>0.0</td>\n      <td>0.0</td>\n      <td>0.0</td>\n      <td>0.0</td>\n    </tr>\n    <tr>\n      <th>4</th>\n      <td>8</td>\n      <td>0</td>\n      <td>1</td>\n      <td>0</td>\n      <td>2</td>\n      <td>More</td>\n      <td>Utilitarian</td>\n      <td>Utilitarian</td>\n      <td>More</td>\n      <td>Less</td>\n      <td>...</td>\n      <td>0.0</td>\n      <td>1.0</td>\n      <td>1.0</td>\n      <td>0.0</td>\n      <td>1.0</td>\n      <td>0.0</td>\n      <td>0.0</td>\n      <td>0.0</td>\n      <td>1.0</td>\n      <td>0.0</td>\n    </tr>\n    <tr>\n      <th>5</th>\n      <td>11</td>\n      <td>0</td>\n      <td>0</td>\n      <td>1</td>\n      <td>0</td>\n      <td>Low</td>\n      <td>Social Status</td>\n      <td>Social Status</td>\n      <td>High</td>\n      <td>Low</td>\n      <td>...</td>\n      <td>0.0</td>\n      <td>0.0</td>\n      <td>0.0</td>\n      <td>0.0</td>\n      <td>0.0</td>\n      <td>0.0</td>\n      <td>0.0</td>\n      <td>0.0</td>\n      <td>0.0</td>\n      <td>0.0</td>\n    </tr>\n  </tbody>\n</table>\n<p>5 rows × 37 columns</p>\n</div>"
     },
     "execution_count": 20,
     "metadata": {},
     "output_type": "execute_result"
    }
   ],
   "source": [
    "df_new.head()"
   ],
   "metadata": {
    "collapsed": false,
    "ExecuteTime": {
     "end_time": "2024-03-12T16:18:24.451521Z",
     "start_time": "2024-03-12T16:18:23.214268Z"
    }
   },
   "id": "aef51d918d4f0ade"
  },
  {
   "cell_type": "code",
   "execution_count": 23,
   "outputs": [],
   "source": [
    "from sklearn.ensemble import RandomForestClassifier\n",
    "from sklearn.datasets import make_classification\n",
    "from sklearn.preprocessing import OneHotEncoder\n",
    "import h2o"
   ],
   "metadata": {
    "collapsed": false,
    "ExecuteTime": {
     "end_time": "2024-03-12T16:27:14.135609Z",
     "start_time": "2024-03-12T16:27:13.931855Z"
    }
   },
   "id": "70ea048fc21b8b6d"
  },
  {
   "cell_type": "code",
   "execution_count": 47,
   "outputs": [
    {
     "data": {
      "text/plain": "    ScenarioOrder  Intervention  PedPed  Barrier  CrossingSignal  \\\n0               7             0       0        0               1   \n2              10             0       1        0               1   \n3              11             0       0        1               0   \n4               8             0       1        0               2   \n5              11             0       0        1               0   \n6              11             0       1        0               0   \n7               6             0       0        0               2   \n8               7             0       0        1               0   \n9              12             0       0        1               0   \n10              3             0       0        1               0   \n11              2             0       0        0               2   \n12              4             0       1        0               1   \n13              4             0       0        0               2   \n14              3             0       1        0               2   \n16              4             0       1        0               0   \n18             11             0       0        1               0   \n19             12             0       0        0               0   \n20             11             0       0        1               0   \n21             11             0       0        0               0   \n22              7             0       0        0               0   \n\n   AttributeLevel ScenarioTypeStrict   ScenarioType DefaultChoice  \\\n0             Fit            Fitness        Fitness           Fit   \n2          Female             Gender         Gender          Male   \n3             Old                Age            Age         Young   \n4            More        Utilitarian    Utilitarian          More   \n5             Low      Social Status  Social Status          High   \n6          Female             Gender         Gender          Male   \n7         Hoomans            Species        Species       Hoomans   \n8            Less        Utilitarian    Utilitarian          More   \n9             Old                Age            Age         Young   \n10           More        Utilitarian    Utilitarian          More   \n11            Fit            Fitness        Fitness           Fit   \n12            Fit            Fitness        Fitness           Fit   \n13            Old                Age            Age         Young   \n14           Less        Utilitarian    Utilitarian          More   \n16            Old                Age            Age         Young   \n18         Female             Gender         Gender          Male   \n19            Fit            Fitness        Fitness           Fit   \n20           Male             Gender         Gender          Male   \n21           Pets            Species        Species       Hoomans   \n22           More        Utilitarian    Utilitarian          More   \n\n   NonDefaultChoice  ...  LargeMan  Criminal  MaleExecutive  FemaleExecutive  \\\n0               Fat  ...       0.0       0.0            0.0              0.0   \n2            Female  ...       0.0       0.0            0.0              1.0   \n3               Old  ...       0.0       0.0            0.0              0.0   \n4              Less  ...       0.0       1.0            1.0              0.0   \n5               Low  ...       0.0       0.0            0.0              0.0   \n6            Female  ...       0.0       0.0            0.0              1.0   \n7              Pets  ...       0.0       0.0            0.0              0.0   \n8              Less  ...       0.0       0.0            0.0              0.0   \n9               Old  ...       0.0       0.0            0.0              0.0   \n10             Less  ...       0.0       0.0            0.0              0.0   \n11              Fat  ...       0.0       0.0            0.0              0.0   \n12              Fat  ...       0.0       0.0            0.0              0.0   \n13              Old  ...       0.0       0.0            0.0              0.0   \n14             Less  ...       0.0       0.0            0.0              0.0   \n16              Old  ...       0.0       0.0            0.0              0.0   \n18           Female  ...       0.0       0.0            0.0              0.0   \n19              Fat  ...       0.0       0.0            0.0              0.0   \n20           Female  ...       1.0       0.0            0.0              0.0   \n21             Pets  ...       0.0       0.0            0.0              0.0   \n22             Less  ...       0.0       0.0            0.0              0.0   \n\n    FemaleAthlete  MaleAthlete FemaleDoctor  MaleDoctor  Dog  Cat  \n0             1.0          2.0          0.0         0.0  0.0  0.0  \n2             0.0          0.0          0.0         0.0  0.0  0.0  \n3             0.0          0.0          0.0         0.0  0.0  0.0  \n4             1.0          0.0          0.0         0.0  1.0  0.0  \n5             0.0          0.0          0.0         0.0  0.0  0.0  \n6             0.0          0.0          1.0         0.0  0.0  0.0  \n7             1.0          1.0          0.0         0.0  0.0  0.0  \n8             1.0          0.0          1.0         0.0  0.0  1.0  \n9             0.0          0.0          0.0         0.0  0.0  0.0  \n10            0.0          1.0          0.0         0.0  1.0  1.0  \n11            0.0          0.0          0.0         0.0  0.0  0.0  \n12            1.0          1.0          0.0         0.0  0.0  0.0  \n13            0.0          0.0          0.0         0.0  0.0  0.0  \n14            0.0          0.0          0.0         1.0  0.0  0.0  \n16            0.0          0.0          0.0         0.0  0.0  0.0  \n18            0.0          0.0          0.0         0.0  0.0  0.0  \n19            0.0          0.0          0.0         0.0  0.0  0.0  \n20            0.0          0.0          0.0         0.0  0.0  0.0  \n21            0.0          0.0          0.0         0.0  0.0  3.0  \n22            0.0          1.0          0.0         0.0  0.0  0.0  \n\n[20 rows x 37 columns]",
      "text/html": "<div>\n<style scoped>\n    .dataframe tbody tr th:only-of-type {\n        vertical-align: middle;\n    }\n\n    .dataframe tbody tr th {\n        vertical-align: top;\n    }\n\n    .dataframe thead th {\n        text-align: right;\n    }\n</style>\n<table border=\"1\" class=\"dataframe\">\n  <thead>\n    <tr style=\"text-align: right;\">\n      <th></th>\n      <th>ScenarioOrder</th>\n      <th>Intervention</th>\n      <th>PedPed</th>\n      <th>Barrier</th>\n      <th>CrossingSignal</th>\n      <th>AttributeLevel</th>\n      <th>ScenarioTypeStrict</th>\n      <th>ScenarioType</th>\n      <th>DefaultChoice</th>\n      <th>NonDefaultChoice</th>\n      <th>...</th>\n      <th>LargeMan</th>\n      <th>Criminal</th>\n      <th>MaleExecutive</th>\n      <th>FemaleExecutive</th>\n      <th>FemaleAthlete</th>\n      <th>MaleAthlete</th>\n      <th>FemaleDoctor</th>\n      <th>MaleDoctor</th>\n      <th>Dog</th>\n      <th>Cat</th>\n    </tr>\n  </thead>\n  <tbody>\n    <tr>\n      <th>0</th>\n      <td>7</td>\n      <td>0</td>\n      <td>0</td>\n      <td>0</td>\n      <td>1</td>\n      <td>Fit</td>\n      <td>Fitness</td>\n      <td>Fitness</td>\n      <td>Fit</td>\n      <td>Fat</td>\n      <td>...</td>\n      <td>0.0</td>\n      <td>0.0</td>\n      <td>0.0</td>\n      <td>0.0</td>\n      <td>1.0</td>\n      <td>2.0</td>\n      <td>0.0</td>\n      <td>0.0</td>\n      <td>0.0</td>\n      <td>0.0</td>\n    </tr>\n    <tr>\n      <th>2</th>\n      <td>10</td>\n      <td>0</td>\n      <td>1</td>\n      <td>0</td>\n      <td>1</td>\n      <td>Female</td>\n      <td>Gender</td>\n      <td>Gender</td>\n      <td>Male</td>\n      <td>Female</td>\n      <td>...</td>\n      <td>0.0</td>\n      <td>0.0</td>\n      <td>0.0</td>\n      <td>1.0</td>\n      <td>0.0</td>\n      <td>0.0</td>\n      <td>0.0</td>\n      <td>0.0</td>\n      <td>0.0</td>\n      <td>0.0</td>\n    </tr>\n    <tr>\n      <th>3</th>\n      <td>11</td>\n      <td>0</td>\n      <td>0</td>\n      <td>1</td>\n      <td>0</td>\n      <td>Old</td>\n      <td>Age</td>\n      <td>Age</td>\n      <td>Young</td>\n      <td>Old</td>\n      <td>...</td>\n      <td>0.0</td>\n      <td>0.0</td>\n      <td>0.0</td>\n      <td>0.0</td>\n      <td>0.0</td>\n      <td>0.0</td>\n      <td>0.0</td>\n      <td>0.0</td>\n      <td>0.0</td>\n      <td>0.0</td>\n    </tr>\n    <tr>\n      <th>4</th>\n      <td>8</td>\n      <td>0</td>\n      <td>1</td>\n      <td>0</td>\n      <td>2</td>\n      <td>More</td>\n      <td>Utilitarian</td>\n      <td>Utilitarian</td>\n      <td>More</td>\n      <td>Less</td>\n      <td>...</td>\n      <td>0.0</td>\n      <td>1.0</td>\n      <td>1.0</td>\n      <td>0.0</td>\n      <td>1.0</td>\n      <td>0.0</td>\n      <td>0.0</td>\n      <td>0.0</td>\n      <td>1.0</td>\n      <td>0.0</td>\n    </tr>\n    <tr>\n      <th>5</th>\n      <td>11</td>\n      <td>0</td>\n      <td>0</td>\n      <td>1</td>\n      <td>0</td>\n      <td>Low</td>\n      <td>Social Status</td>\n      <td>Social Status</td>\n      <td>High</td>\n      <td>Low</td>\n      <td>...</td>\n      <td>0.0</td>\n      <td>0.0</td>\n      <td>0.0</td>\n      <td>0.0</td>\n      <td>0.0</td>\n      <td>0.0</td>\n      <td>0.0</td>\n      <td>0.0</td>\n      <td>0.0</td>\n      <td>0.0</td>\n    </tr>\n    <tr>\n      <th>6</th>\n      <td>11</td>\n      <td>0</td>\n      <td>1</td>\n      <td>0</td>\n      <td>0</td>\n      <td>Female</td>\n      <td>Gender</td>\n      <td>Gender</td>\n      <td>Male</td>\n      <td>Female</td>\n      <td>...</td>\n      <td>0.0</td>\n      <td>0.0</td>\n      <td>0.0</td>\n      <td>1.0</td>\n      <td>0.0</td>\n      <td>0.0</td>\n      <td>1.0</td>\n      <td>0.0</td>\n      <td>0.0</td>\n      <td>0.0</td>\n    </tr>\n    <tr>\n      <th>7</th>\n      <td>6</td>\n      <td>0</td>\n      <td>0</td>\n      <td>0</td>\n      <td>2</td>\n      <td>Hoomans</td>\n      <td>Species</td>\n      <td>Species</td>\n      <td>Hoomans</td>\n      <td>Pets</td>\n      <td>...</td>\n      <td>0.0</td>\n      <td>0.0</td>\n      <td>0.0</td>\n      <td>0.0</td>\n      <td>1.0</td>\n      <td>1.0</td>\n      <td>0.0</td>\n      <td>0.0</td>\n      <td>0.0</td>\n      <td>0.0</td>\n    </tr>\n    <tr>\n      <th>8</th>\n      <td>7</td>\n      <td>0</td>\n      <td>0</td>\n      <td>1</td>\n      <td>0</td>\n      <td>Less</td>\n      <td>Utilitarian</td>\n      <td>Utilitarian</td>\n      <td>More</td>\n      <td>Less</td>\n      <td>...</td>\n      <td>0.0</td>\n      <td>0.0</td>\n      <td>0.0</td>\n      <td>0.0</td>\n      <td>1.0</td>\n      <td>0.0</td>\n      <td>1.0</td>\n      <td>0.0</td>\n      <td>0.0</td>\n      <td>1.0</td>\n    </tr>\n    <tr>\n      <th>9</th>\n      <td>12</td>\n      <td>0</td>\n      <td>0</td>\n      <td>1</td>\n      <td>0</td>\n      <td>Old</td>\n      <td>Age</td>\n      <td>Age</td>\n      <td>Young</td>\n      <td>Old</td>\n      <td>...</td>\n      <td>0.0</td>\n      <td>0.0</td>\n      <td>0.0</td>\n      <td>0.0</td>\n      <td>0.0</td>\n      <td>0.0</td>\n      <td>0.0</td>\n      <td>0.0</td>\n      <td>0.0</td>\n      <td>0.0</td>\n    </tr>\n    <tr>\n      <th>10</th>\n      <td>3</td>\n      <td>0</td>\n      <td>0</td>\n      <td>1</td>\n      <td>0</td>\n      <td>More</td>\n      <td>Utilitarian</td>\n      <td>Utilitarian</td>\n      <td>More</td>\n      <td>Less</td>\n      <td>...</td>\n      <td>0.0</td>\n      <td>0.0</td>\n      <td>0.0</td>\n      <td>0.0</td>\n      <td>0.0</td>\n      <td>1.0</td>\n      <td>0.0</td>\n      <td>0.0</td>\n      <td>1.0</td>\n      <td>1.0</td>\n    </tr>\n    <tr>\n      <th>11</th>\n      <td>2</td>\n      <td>0</td>\n      <td>0</td>\n      <td>0</td>\n      <td>2</td>\n      <td>Fit</td>\n      <td>Fitness</td>\n      <td>Fitness</td>\n      <td>Fit</td>\n      <td>Fat</td>\n      <td>...</td>\n      <td>0.0</td>\n      <td>0.0</td>\n      <td>0.0</td>\n      <td>0.0</td>\n      <td>0.0</td>\n      <td>0.0</td>\n      <td>0.0</td>\n      <td>0.0</td>\n      <td>0.0</td>\n      <td>0.0</td>\n    </tr>\n    <tr>\n      <th>12</th>\n      <td>4</td>\n      <td>0</td>\n      <td>1</td>\n      <td>0</td>\n      <td>1</td>\n      <td>Fit</td>\n      <td>Fitness</td>\n      <td>Fitness</td>\n      <td>Fit</td>\n      <td>Fat</td>\n      <td>...</td>\n      <td>0.0</td>\n      <td>0.0</td>\n      <td>0.0</td>\n      <td>0.0</td>\n      <td>1.0</td>\n      <td>1.0</td>\n      <td>0.0</td>\n      <td>0.0</td>\n      <td>0.0</td>\n      <td>0.0</td>\n    </tr>\n    <tr>\n      <th>13</th>\n      <td>4</td>\n      <td>0</td>\n      <td>0</td>\n      <td>0</td>\n      <td>2</td>\n      <td>Old</td>\n      <td>Age</td>\n      <td>Age</td>\n      <td>Young</td>\n      <td>Old</td>\n      <td>...</td>\n      <td>0.0</td>\n      <td>0.0</td>\n      <td>0.0</td>\n      <td>0.0</td>\n      <td>0.0</td>\n      <td>0.0</td>\n      <td>0.0</td>\n      <td>0.0</td>\n      <td>0.0</td>\n      <td>0.0</td>\n    </tr>\n    <tr>\n      <th>14</th>\n      <td>3</td>\n      <td>0</td>\n      <td>1</td>\n      <td>0</td>\n      <td>2</td>\n      <td>Less</td>\n      <td>Utilitarian</td>\n      <td>Utilitarian</td>\n      <td>More</td>\n      <td>Less</td>\n      <td>...</td>\n      <td>0.0</td>\n      <td>0.0</td>\n      <td>0.0</td>\n      <td>0.0</td>\n      <td>0.0</td>\n      <td>0.0</td>\n      <td>0.0</td>\n      <td>1.0</td>\n      <td>0.0</td>\n      <td>0.0</td>\n    </tr>\n    <tr>\n      <th>16</th>\n      <td>4</td>\n      <td>0</td>\n      <td>1</td>\n      <td>0</td>\n      <td>0</td>\n      <td>Old</td>\n      <td>Age</td>\n      <td>Age</td>\n      <td>Young</td>\n      <td>Old</td>\n      <td>...</td>\n      <td>0.0</td>\n      <td>0.0</td>\n      <td>0.0</td>\n      <td>0.0</td>\n      <td>0.0</td>\n      <td>0.0</td>\n      <td>0.0</td>\n      <td>0.0</td>\n      <td>0.0</td>\n      <td>0.0</td>\n    </tr>\n    <tr>\n      <th>18</th>\n      <td>11</td>\n      <td>0</td>\n      <td>0</td>\n      <td>1</td>\n      <td>0</td>\n      <td>Female</td>\n      <td>Gender</td>\n      <td>Gender</td>\n      <td>Male</td>\n      <td>Female</td>\n      <td>...</td>\n      <td>0.0</td>\n      <td>0.0</td>\n      <td>0.0</td>\n      <td>0.0</td>\n      <td>0.0</td>\n      <td>0.0</td>\n      <td>0.0</td>\n      <td>0.0</td>\n      <td>0.0</td>\n      <td>0.0</td>\n    </tr>\n    <tr>\n      <th>19</th>\n      <td>12</td>\n      <td>0</td>\n      <td>0</td>\n      <td>0</td>\n      <td>0</td>\n      <td>Fit</td>\n      <td>Fitness</td>\n      <td>Fitness</td>\n      <td>Fit</td>\n      <td>Fat</td>\n      <td>...</td>\n      <td>0.0</td>\n      <td>0.0</td>\n      <td>0.0</td>\n      <td>0.0</td>\n      <td>0.0</td>\n      <td>0.0</td>\n      <td>0.0</td>\n      <td>0.0</td>\n      <td>0.0</td>\n      <td>0.0</td>\n    </tr>\n    <tr>\n      <th>20</th>\n      <td>11</td>\n      <td>0</td>\n      <td>0</td>\n      <td>1</td>\n      <td>0</td>\n      <td>Male</td>\n      <td>Gender</td>\n      <td>Gender</td>\n      <td>Male</td>\n      <td>Female</td>\n      <td>...</td>\n      <td>1.0</td>\n      <td>0.0</td>\n      <td>0.0</td>\n      <td>0.0</td>\n      <td>0.0</td>\n      <td>0.0</td>\n      <td>0.0</td>\n      <td>0.0</td>\n      <td>0.0</td>\n      <td>0.0</td>\n    </tr>\n    <tr>\n      <th>21</th>\n      <td>11</td>\n      <td>0</td>\n      <td>0</td>\n      <td>0</td>\n      <td>0</td>\n      <td>Pets</td>\n      <td>Species</td>\n      <td>Species</td>\n      <td>Hoomans</td>\n      <td>Pets</td>\n      <td>...</td>\n      <td>0.0</td>\n      <td>0.0</td>\n      <td>0.0</td>\n      <td>0.0</td>\n      <td>0.0</td>\n      <td>0.0</td>\n      <td>0.0</td>\n      <td>0.0</td>\n      <td>0.0</td>\n      <td>3.0</td>\n    </tr>\n    <tr>\n      <th>22</th>\n      <td>7</td>\n      <td>0</td>\n      <td>0</td>\n      <td>0</td>\n      <td>0</td>\n      <td>More</td>\n      <td>Utilitarian</td>\n      <td>Utilitarian</td>\n      <td>More</td>\n      <td>Less</td>\n      <td>...</td>\n      <td>0.0</td>\n      <td>0.0</td>\n      <td>0.0</td>\n      <td>0.0</td>\n      <td>0.0</td>\n      <td>1.0</td>\n      <td>0.0</td>\n      <td>0.0</td>\n      <td>0.0</td>\n      <td>0.0</td>\n    </tr>\n  </tbody>\n</table>\n<p>20 rows × 37 columns</p>\n</div>"
     },
     "execution_count": 47,
     "metadata": {},
     "output_type": "execute_result"
    }
   ],
   "source": [
    "clf = RandomForestClassifier(max_depth=4)\n",
    "X = df_new.drop(['Saved'], axis=1)\n",
    "Y = df_new['Saved']\n",
    "\n",
    "# X.describe\n",
    "# drop_enc = OneHotEncoder(drop='first').fit(X)\n",
    "df_new.head(n=20)"
   ],
   "metadata": {
    "collapsed": false,
    "ExecuteTime": {
     "end_time": "2024-02-23T18:21:00.315898Z",
     "start_time": "2024-02-23T18:20:58.782070Z"
    }
   },
   "id": "c746ec92cf5c11a8"
  },
  {
   "cell_type": "code",
   "execution_count": 27,
   "outputs": [
    {
     "name": "stdout",
     "output_type": "stream",
     "text": [
      "Checking whether there is an H2O instance running at http://localhost:54321..... not found.\n",
      "Attempting to start a local H2O server...\n",
      "  Java Version: java version \"1.8.0_401\"; Java(TM) SE Runtime Environment (build 1.8.0_401-b10); Java HotSpot(TM) 64-Bit Server VM (build 25.401-b10, mixed mode)\n",
      "  Starting server from /Users/cancokisler/anaconda3/lib/python3.11/site-packages/h2o/backend/bin/h2o.jar\n",
      "  Ice root: /var/folders/l4/9k9twr_s74bfv6841pgf6nmc0000gn/T/tmpyla5m5li\n",
      "  JVM stdout: /var/folders/l4/9k9twr_s74bfv6841pgf6nmc0000gn/T/tmpyla5m5li/h2o_cancokisler_started_from_python.out\n",
      "  JVM stderr: /var/folders/l4/9k9twr_s74bfv6841pgf6nmc0000gn/T/tmpyla5m5li/h2o_cancokisler_started_from_python.err\n",
      "  Server is running at http://127.0.0.1:54321\n",
      "Connecting to H2O server at http://127.0.0.1:54321 ... successful.\n"
     ]
    },
    {
     "data": {
      "text/plain": "--------------------------  ----------------------------------\nH2O_cluster_uptime:         03 secs\nH2O_cluster_timezone:       America/Toronto\nH2O_data_parsing_timezone:  UTC\nH2O_cluster_version:        3.44.0.3\nH2O_cluster_version_age:    2 months and 20 days\nH2O_cluster_name:           H2O_from_python_cancokisler_ptdmng\nH2O_cluster_total_nodes:    1\nH2O_cluster_free_memory:    3.541 Gb\nH2O_cluster_total_cores:    8\nH2O_cluster_allowed_cores:  8\nH2O_cluster_status:         locked, healthy\nH2O_connection_url:         http://127.0.0.1:54321\nH2O_connection_proxy:       {\"http\": null, \"https\": null}\nH2O_internal_security:      False\nPython_version:             3.11.5 final\n--------------------------  ----------------------------------",
      "text/html": "\n<style>\n\n#h2o-table-1.h2o-container {\n  overflow-x: auto;\n}\n#h2o-table-1 .h2o-table {\n  /* width: 100%; */\n  margin-top: 1em;\n  margin-bottom: 1em;\n}\n#h2o-table-1 .h2o-table caption {\n  white-space: nowrap;\n  caption-side: top;\n  text-align: left;\n  /* margin-left: 1em; */\n  margin: 0;\n  font-size: larger;\n}\n#h2o-table-1 .h2o-table thead {\n  white-space: nowrap; \n  position: sticky;\n  top: 0;\n  box-shadow: 0 -1px inset;\n}\n#h2o-table-1 .h2o-table tbody {\n  overflow: auto;\n}\n#h2o-table-1 .h2o-table th,\n#h2o-table-1 .h2o-table td {\n  text-align: right;\n  /* border: 1px solid; */\n}\n#h2o-table-1 .h2o-table tr:nth-child(even) {\n  /* background: #F5F5F5 */\n}\n\n</style>      \n<div id=\"h2o-table-1\" class=\"h2o-container\">\n  <table class=\"h2o-table\">\n    <caption></caption>\n    <thead></thead>\n    <tbody><tr><td>H2O_cluster_uptime:</td>\n<td>03 secs</td></tr>\n<tr><td>H2O_cluster_timezone:</td>\n<td>America/Toronto</td></tr>\n<tr><td>H2O_data_parsing_timezone:</td>\n<td>UTC</td></tr>\n<tr><td>H2O_cluster_version:</td>\n<td>3.44.0.3</td></tr>\n<tr><td>H2O_cluster_version_age:</td>\n<td>2 months and 20 days</td></tr>\n<tr><td>H2O_cluster_name:</td>\n<td>H2O_from_python_cancokisler_ptdmng</td></tr>\n<tr><td>H2O_cluster_total_nodes:</td>\n<td>1</td></tr>\n<tr><td>H2O_cluster_free_memory:</td>\n<td>3.541 Gb</td></tr>\n<tr><td>H2O_cluster_total_cores:</td>\n<td>8</td></tr>\n<tr><td>H2O_cluster_allowed_cores:</td>\n<td>8</td></tr>\n<tr><td>H2O_cluster_status:</td>\n<td>locked, healthy</td></tr>\n<tr><td>H2O_connection_url:</td>\n<td>http://127.0.0.1:54321</td></tr>\n<tr><td>H2O_connection_proxy:</td>\n<td>{\"http\": null, \"https\": null}</td></tr>\n<tr><td>H2O_internal_security:</td>\n<td>False</td></tr>\n<tr><td>Python_version:</td>\n<td>3.11.5 final</td></tr></tbody>\n  </table>\n</div>\n"
     },
     "metadata": {},
     "output_type": "display_data"
    }
   ],
   "source": [
    "h2o.init()"
   ],
   "metadata": {
    "collapsed": false,
    "ExecuteTime": {
     "end_time": "2024-03-12T16:33:58.953792Z",
     "start_time": "2024-03-12T16:33:53.997936Z"
    }
   },
   "id": "2dc1a5b764d2203d"
  },
  {
   "cell_type": "code",
   "execution_count": 28,
   "outputs": [
    {
     "name": "stdout",
     "output_type": "stream",
     "text": [
      "Parse progress: |████████████████████████████████████████████████████████████ (cancelled)  95%\n"
     ]
    },
    {
     "ename": "KeyboardInterrupt",
     "evalue": "",
     "output_type": "error",
     "traceback": [
      "\u001B[0;31m---------------------------------------------------------------------------\u001B[0m",
      "\u001B[0;31mStopIteration\u001B[0m                             Traceback (most recent call last)",
      "File \u001B[0;32m~/anaconda3/lib/python3.11/site-packages/h2o/job.py:71\u001B[0m, in \u001B[0;36mH2OJob.poll\u001B[0;34m(self, poll_updates)\u001B[0m\n\u001B[1;32m     70\u001B[0m     \u001B[38;5;28;01melse\u001B[39;00m:\n\u001B[0;32m---> 71\u001B[0m         pb\u001B[38;5;241m.\u001B[39mexecute(\u001B[38;5;28mself\u001B[39m\u001B[38;5;241m.\u001B[39m_refresh_job_status)\n\u001B[1;32m     72\u001B[0m \u001B[38;5;28;01mexcept\u001B[39;00m \u001B[38;5;167;01mStopIteration\u001B[39;00m \u001B[38;5;28;01mas\u001B[39;00m e:\n",
      "File \u001B[0;32m~/anaconda3/lib/python3.11/site-packages/h2o/utils/progressbar.py:229\u001B[0m, in \u001B[0;36mProgressBar.execute\u001B[0;34m(self, progress_fn, progress_monitor_fn)\u001B[0m\n\u001B[1;32m    227\u001B[0m \u001B[38;5;28;01mif\u001B[39;00m status \u001B[38;5;241m==\u001B[39m \u001B[38;5;124m\"\u001B[39m\u001B[38;5;124mcancelled\u001B[39m\u001B[38;5;124m\"\u001B[39m:\n\u001B[1;32m    228\u001B[0m     \u001B[38;5;66;03m# Re-raise the exception, to inform the upstream caller that something unexpected happened.\u001B[39;00m\n\u001B[0;32m--> 229\u001B[0m     \u001B[38;5;28;01mraise\u001B[39;00m \u001B[38;5;167;01mStopIteration\u001B[39;00m(status)\n",
      "\u001B[0;31mStopIteration\u001B[0m: cancelled",
      "\nDuring handling of the above exception, another exception occurred:\n",
      "\u001B[0;31mKeyboardInterrupt\u001B[0m                         Traceback (most recent call last)",
      "Cell \u001B[0;32mIn[28], line 1\u001B[0m\n\u001B[0;32m----> 1\u001B[0m moral_machine \u001B[38;5;241m=\u001B[39m h2o\u001B[38;5;241m.\u001B[39mimport_file(\u001B[38;5;124m\"\u001B[39m\u001B[38;5;124m/Users/cancokisler/Downloads/Datasets/Moral Machine Data/SharedResponses.csv\u001B[39m\u001B[38;5;124m\"\u001B[39m)\n",
      "File \u001B[0;32m~/anaconda3/lib/python3.11/site-packages/h2o/h2o.py:502\u001B[0m, in \u001B[0;36mimport_file\u001B[0;34m(path, destination_frame, parse, header, sep, col_names, col_types, na_strings, pattern, skipped_columns, force_col_types, custom_non_data_line_markers, partition_by, quotechar, escapechar)\u001B[0m\n\u001B[1;32m    500\u001B[0m     \u001B[38;5;28;01mreturn\u001B[39;00m lazy_import(path, pattern)\n\u001B[1;32m    501\u001B[0m \u001B[38;5;28;01melse\u001B[39;00m:\n\u001B[0;32m--> 502\u001B[0m     \u001B[38;5;28;01mreturn\u001B[39;00m H2OFrame()\u001B[38;5;241m.\u001B[39m_import_parse(path, pattern, destination_frame, header, sep, col_names, col_types, na_strings,\n\u001B[1;32m    503\u001B[0m                                     skipped_columns, force_col_types, custom_non_data_line_markers, partition_by, quotechar, escapechar)\n",
      "File \u001B[0;32m~/anaconda3/lib/python3.11/site-packages/h2o/frame.py:459\u001B[0m, in \u001B[0;36mH2OFrame._import_parse\u001B[0;34m(self, path, pattern, destination_frame, header, separator, column_names, column_types, na_strings, skipped_columns, force_col_types, custom_non_data_line_markers, partition_by, quotechar, escapechar)\u001B[0m\n\u001B[1;32m    457\u001B[0m     path \u001B[38;5;241m=\u001B[39m os\u001B[38;5;241m.\u001B[39mpath\u001B[38;5;241m.\u001B[39mabspath(path)\n\u001B[1;32m    458\u001B[0m rawkey \u001B[38;5;241m=\u001B[39m h2o\u001B[38;5;241m.\u001B[39mlazy_import(path, pattern)\n\u001B[0;32m--> 459\u001B[0m \u001B[38;5;28mself\u001B[39m\u001B[38;5;241m.\u001B[39m_parse(rawkey, destination_frame, header, separator, column_names, column_types, na_strings,\n\u001B[1;32m    460\u001B[0m             skipped_columns, force_col_types, custom_non_data_line_markers, partition_by, quotechar, escapechar)\n\u001B[1;32m    461\u001B[0m \u001B[38;5;28;01mreturn\u001B[39;00m \u001B[38;5;28mself\u001B[39m\n",
      "File \u001B[0;32m~/anaconda3/lib/python3.11/site-packages/h2o/frame.py:476\u001B[0m, in \u001B[0;36mH2OFrame._parse\u001B[0;34m(self, rawkey, destination_frame, header, separator, column_names, column_types, na_strings, skipped_columns, force_col_types, custom_non_data_line_markers, partition_by, quotechar, escapechar)\u001B[0m\n\u001B[1;32m    471\u001B[0m \u001B[38;5;28;01mdef\u001B[39;00m \u001B[38;5;21m_parse\u001B[39m(\u001B[38;5;28mself\u001B[39m, rawkey, destination_frame\u001B[38;5;241m=\u001B[39m\u001B[38;5;124m\"\u001B[39m\u001B[38;5;124m\"\u001B[39m, header\u001B[38;5;241m=\u001B[39m\u001B[38;5;28;01mNone\u001B[39;00m, separator\u001B[38;5;241m=\u001B[39m\u001B[38;5;28;01mNone\u001B[39;00m, column_names\u001B[38;5;241m=\u001B[39m\u001B[38;5;28;01mNone\u001B[39;00m, column_types\u001B[38;5;241m=\u001B[39m\u001B[38;5;28;01mNone\u001B[39;00m,\n\u001B[1;32m    472\u001B[0m            na_strings\u001B[38;5;241m=\u001B[39m\u001B[38;5;28;01mNone\u001B[39;00m, skipped_columns\u001B[38;5;241m=\u001B[39m\u001B[38;5;28;01mNone\u001B[39;00m, force_col_types\u001B[38;5;241m=\u001B[39m\u001B[38;5;28;01mFalse\u001B[39;00m, custom_non_data_line_markers\u001B[38;5;241m=\u001B[39m\u001B[38;5;28;01mNone\u001B[39;00m, partition_by\u001B[38;5;241m=\u001B[39m\u001B[38;5;28;01mNone\u001B[39;00m, quotechar\u001B[38;5;241m=\u001B[39m\u001B[38;5;28;01mNone\u001B[39;00m,\n\u001B[1;32m    473\u001B[0m            escapechar\u001B[38;5;241m=\u001B[39m\u001B[38;5;28;01mNone\u001B[39;00m):\n\u001B[1;32m    474\u001B[0m     setup \u001B[38;5;241m=\u001B[39m h2o\u001B[38;5;241m.\u001B[39mparse_setup(rawkey, destination_frame, header, separator, column_names, column_types, na_strings,\n\u001B[1;32m    475\u001B[0m                             skipped_columns, force_col_types, custom_non_data_line_markers, partition_by, quotechar, escapechar)\n\u001B[0;32m--> 476\u001B[0m     \u001B[38;5;28;01mreturn\u001B[39;00m \u001B[38;5;28mself\u001B[39m\u001B[38;5;241m.\u001B[39m_parse_raw(setup)\n",
      "File \u001B[0;32m~/anaconda3/lib/python3.11/site-packages/h2o/frame.py:505\u001B[0m, in \u001B[0;36mH2OFrame._parse_raw\u001B[0;34m(self, setup)\u001B[0m\n\u001B[1;32m    502\u001B[0m \u001B[38;5;66;03m# Extract only 'name' from each src in the array of srcs\u001B[39;00m\n\u001B[1;32m    503\u001B[0m p[\u001B[38;5;124m'\u001B[39m\u001B[38;5;124msource_frames\u001B[39m\u001B[38;5;124m'\u001B[39m] \u001B[38;5;241m=\u001B[39m [quoted(src[\u001B[38;5;124m'\u001B[39m\u001B[38;5;124mname\u001B[39m\u001B[38;5;124m'\u001B[39m]) \u001B[38;5;28;01mfor\u001B[39;00m src \u001B[38;5;129;01min\u001B[39;00m setup[\u001B[38;5;124m'\u001B[39m\u001B[38;5;124msource_frames\u001B[39m\u001B[38;5;124m'\u001B[39m]]\n\u001B[0;32m--> 505\u001B[0m H2OJob(h2o\u001B[38;5;241m.\u001B[39mapi(\u001B[38;5;124m\"\u001B[39m\u001B[38;5;124mPOST /3/Parse\u001B[39m\u001B[38;5;124m\"\u001B[39m, data\u001B[38;5;241m=\u001B[39mp), \u001B[38;5;124m\"\u001B[39m\u001B[38;5;124mParse\u001B[39m\u001B[38;5;124m\"\u001B[39m)\u001B[38;5;241m.\u001B[39mpoll()\n\u001B[1;32m    506\u001B[0m \u001B[38;5;66;03m# Need to return a Frame here for nearly all callers\u001B[39;00m\n\u001B[1;32m    507\u001B[0m \u001B[38;5;66;03m# ... but job stats returns only a dest_key, requiring another REST call to get nrow/ncol\u001B[39;00m\n\u001B[1;32m    508\u001B[0m \u001B[38;5;28mself\u001B[39m\u001B[38;5;241m.\u001B[39m_ex\u001B[38;5;241m.\u001B[39m_cache\u001B[38;5;241m.\u001B[39m_id \u001B[38;5;241m=\u001B[39m p[\u001B[38;5;124m\"\u001B[39m\u001B[38;5;124mdestination_frame\u001B[39m\u001B[38;5;124m\"\u001B[39m]\n",
      "File \u001B[0;32m~/anaconda3/lib/python3.11/site-packages/h2o/job.py:74\u001B[0m, in \u001B[0;36mH2OJob.poll\u001B[0;34m(self, poll_updates)\u001B[0m\n\u001B[1;32m     72\u001B[0m \u001B[38;5;28;01mexcept\u001B[39;00m \u001B[38;5;167;01mStopIteration\u001B[39;00m \u001B[38;5;28;01mas\u001B[39;00m e:\n\u001B[1;32m     73\u001B[0m     \u001B[38;5;28;01mif\u001B[39;00m \u001B[38;5;28mstr\u001B[39m(e) \u001B[38;5;241m==\u001B[39m \u001B[38;5;124m\"\u001B[39m\u001B[38;5;124mcancelled\u001B[39m\u001B[38;5;124m\"\u001B[39m:\n\u001B[0;32m---> 74\u001B[0m         \u001B[38;5;28mself\u001B[39m\u001B[38;5;241m.\u001B[39mcancel()\n\u001B[1;32m     75\u001B[0m     \u001B[38;5;66;03m# Potentially we may want to re-raise the exception here\u001B[39;00m\n\u001B[1;32m     77\u001B[0m \u001B[38;5;28;01massert\u001B[39;00m \u001B[38;5;28mself\u001B[39m\u001B[38;5;241m.\u001B[39mstatus \u001B[38;5;129;01min\u001B[39;00m {\u001B[38;5;124m\"\u001B[39m\u001B[38;5;124mDONE\u001B[39m\u001B[38;5;124m\"\u001B[39m, \u001B[38;5;124m\"\u001B[39m\u001B[38;5;124mCANCELLED\u001B[39m\u001B[38;5;124m\"\u001B[39m, \u001B[38;5;124m\"\u001B[39m\u001B[38;5;124mFAILED\u001B[39m\u001B[38;5;124m\"\u001B[39m} \u001B[38;5;129;01mor\u001B[39;00m \u001B[38;5;28mself\u001B[39m\u001B[38;5;241m.\u001B[39m_poll_count \u001B[38;5;241m<\u001B[39m\u001B[38;5;241m=\u001B[39m \u001B[38;5;241m0\u001B[39m, \\\n\u001B[1;32m     78\u001B[0m     \u001B[38;5;124m\"\u001B[39m\u001B[38;5;124mPolling finished while the job has status \u001B[39m\u001B[38;5;132;01m%s\u001B[39;00m\u001B[38;5;124m\"\u001B[39m \u001B[38;5;241m%\u001B[39m \u001B[38;5;28mself\u001B[39m\u001B[38;5;241m.\u001B[39mstatus\n",
      "File \u001B[0;32m~/anaconda3/lib/python3.11/site-packages/h2o/job.py:104\u001B[0m, in \u001B[0;36mH2OJob.cancel\u001B[0;34m(self)\u001B[0m\n\u001B[1;32m    103\u001B[0m \u001B[38;5;28;01mdef\u001B[39;00m \u001B[38;5;21mcancel\u001B[39m(\u001B[38;5;28mself\u001B[39m):\n\u001B[0;32m--> 104\u001B[0m     h2o\u001B[38;5;241m.\u001B[39mapi(\u001B[38;5;124m\"\u001B[39m\u001B[38;5;124mPOST /3/Jobs/\u001B[39m\u001B[38;5;132;01m%s\u001B[39;00m\u001B[38;5;124m/cancel\u001B[39m\u001B[38;5;124m\"\u001B[39m \u001B[38;5;241m%\u001B[39m \u001B[38;5;28mself\u001B[39m\u001B[38;5;241m.\u001B[39mjob_key)\n\u001B[1;32m    105\u001B[0m     \u001B[38;5;28mself\u001B[39m\u001B[38;5;241m.\u001B[39mstatus \u001B[38;5;241m=\u001B[39m \u001B[38;5;124m\"\u001B[39m\u001B[38;5;124mCANCELLED\u001B[39m\u001B[38;5;124m\"\u001B[39m\n",
      "File \u001B[0;32m~/anaconda3/lib/python3.11/site-packages/h2o/h2o.py:123\u001B[0m, in \u001B[0;36mapi\u001B[0;34m(endpoint, data, json, filename, save_to)\u001B[0m\n\u001B[1;32m    121\u001B[0m \u001B[38;5;66;03m# type checks are performed in H2OConnection class\u001B[39;00m\n\u001B[1;32m    122\u001B[0m _check_connection()\n\u001B[0;32m--> 123\u001B[0m \u001B[38;5;28;01mreturn\u001B[39;00m h2oconn\u001B[38;5;241m.\u001B[39mrequest(endpoint, data\u001B[38;5;241m=\u001B[39mdata, json\u001B[38;5;241m=\u001B[39mjson, filename\u001B[38;5;241m=\u001B[39mfilename, save_to\u001B[38;5;241m=\u001B[39msave_to)\n",
      "File \u001B[0;32m~/anaconda3/lib/python3.11/site-packages/h2o/backend/connection.py:494\u001B[0m, in \u001B[0;36mH2OConnection.request\u001B[0;34m(self, endpoint, data, json, filename, save_to)\u001B[0m\n\u001B[1;32m    492\u001B[0m \u001B[38;5;28mself\u001B[39m\u001B[38;5;241m.\u001B[39m_log_start_transaction(endpoint, rd, json, filename, params)\n\u001B[1;32m    493\u001B[0m args \u001B[38;5;241m=\u001B[39m \u001B[38;5;28mself\u001B[39m\u001B[38;5;241m.\u001B[39m_request_args()\n\u001B[0;32m--> 494\u001B[0m resp \u001B[38;5;241m=\u001B[39m requests\u001B[38;5;241m.\u001B[39mrequest(method\u001B[38;5;241m=\u001B[39mmethod, url\u001B[38;5;241m=\u001B[39murl, data\u001B[38;5;241m=\u001B[39mrd, json\u001B[38;5;241m=\u001B[39mjson, params\u001B[38;5;241m=\u001B[39mparams,\n\u001B[1;32m    495\u001B[0m                         stream\u001B[38;5;241m=\u001B[39mstream, \u001B[38;5;241m*\u001B[39m\u001B[38;5;241m*\u001B[39margs)\n\u001B[1;32m    496\u001B[0m \u001B[38;5;28;01mif\u001B[39;00m \u001B[38;5;28misinstance\u001B[39m(save_to, types\u001B[38;5;241m.\u001B[39mFunctionType):\n\u001B[1;32m    497\u001B[0m     save_to \u001B[38;5;241m=\u001B[39m save_to(resp)\n",
      "File \u001B[0;32m~/anaconda3/lib/python3.11/site-packages/requests/api.py:59\u001B[0m, in \u001B[0;36mrequest\u001B[0;34m(method, url, **kwargs)\u001B[0m\n\u001B[1;32m     55\u001B[0m \u001B[38;5;66;03m# By using the 'with' statement we are sure the session is closed, thus we\u001B[39;00m\n\u001B[1;32m     56\u001B[0m \u001B[38;5;66;03m# avoid leaving sockets open which can trigger a ResourceWarning in some\u001B[39;00m\n\u001B[1;32m     57\u001B[0m \u001B[38;5;66;03m# cases, and look like a memory leak in others.\u001B[39;00m\n\u001B[1;32m     58\u001B[0m \u001B[38;5;28;01mwith\u001B[39;00m sessions\u001B[38;5;241m.\u001B[39mSession() \u001B[38;5;28;01mas\u001B[39;00m session:\n\u001B[0;32m---> 59\u001B[0m     \u001B[38;5;28;01mreturn\u001B[39;00m session\u001B[38;5;241m.\u001B[39mrequest(method\u001B[38;5;241m=\u001B[39mmethod, url\u001B[38;5;241m=\u001B[39murl, \u001B[38;5;241m*\u001B[39m\u001B[38;5;241m*\u001B[39mkwargs)\n",
      "File \u001B[0;32m~/anaconda3/lib/python3.11/site-packages/requests/sessions.py:589\u001B[0m, in \u001B[0;36mSession.request\u001B[0;34m(self, method, url, params, data, headers, cookies, files, auth, timeout, allow_redirects, proxies, hooks, stream, verify, cert, json)\u001B[0m\n\u001B[1;32m    584\u001B[0m send_kwargs \u001B[38;5;241m=\u001B[39m {\n\u001B[1;32m    585\u001B[0m     \u001B[38;5;124m\"\u001B[39m\u001B[38;5;124mtimeout\u001B[39m\u001B[38;5;124m\"\u001B[39m: timeout,\n\u001B[1;32m    586\u001B[0m     \u001B[38;5;124m\"\u001B[39m\u001B[38;5;124mallow_redirects\u001B[39m\u001B[38;5;124m\"\u001B[39m: allow_redirects,\n\u001B[1;32m    587\u001B[0m }\n\u001B[1;32m    588\u001B[0m send_kwargs\u001B[38;5;241m.\u001B[39mupdate(settings)\n\u001B[0;32m--> 589\u001B[0m resp \u001B[38;5;241m=\u001B[39m \u001B[38;5;28mself\u001B[39m\u001B[38;5;241m.\u001B[39msend(prep, \u001B[38;5;241m*\u001B[39m\u001B[38;5;241m*\u001B[39msend_kwargs)\n\u001B[1;32m    591\u001B[0m \u001B[38;5;28;01mreturn\u001B[39;00m resp\n",
      "File \u001B[0;32m~/anaconda3/lib/python3.11/site-packages/requests/sessions.py:703\u001B[0m, in \u001B[0;36mSession.send\u001B[0;34m(self, request, **kwargs)\u001B[0m\n\u001B[1;32m    700\u001B[0m start \u001B[38;5;241m=\u001B[39m preferred_clock()\n\u001B[1;32m    702\u001B[0m \u001B[38;5;66;03m# Send the request\u001B[39;00m\n\u001B[0;32m--> 703\u001B[0m r \u001B[38;5;241m=\u001B[39m adapter\u001B[38;5;241m.\u001B[39msend(request, \u001B[38;5;241m*\u001B[39m\u001B[38;5;241m*\u001B[39mkwargs)\n\u001B[1;32m    705\u001B[0m \u001B[38;5;66;03m# Total elapsed time of the request (approximately)\u001B[39;00m\n\u001B[1;32m    706\u001B[0m elapsed \u001B[38;5;241m=\u001B[39m preferred_clock() \u001B[38;5;241m-\u001B[39m start\n",
      "File \u001B[0;32m~/anaconda3/lib/python3.11/site-packages/requests/adapters.py:486\u001B[0m, in \u001B[0;36mHTTPAdapter.send\u001B[0;34m(self, request, stream, timeout, verify, cert, proxies)\u001B[0m\n\u001B[1;32m    483\u001B[0m     timeout \u001B[38;5;241m=\u001B[39m TimeoutSauce(connect\u001B[38;5;241m=\u001B[39mtimeout, read\u001B[38;5;241m=\u001B[39mtimeout)\n\u001B[1;32m    485\u001B[0m \u001B[38;5;28;01mtry\u001B[39;00m:\n\u001B[0;32m--> 486\u001B[0m     resp \u001B[38;5;241m=\u001B[39m conn\u001B[38;5;241m.\u001B[39murlopen(\n\u001B[1;32m    487\u001B[0m         method\u001B[38;5;241m=\u001B[39mrequest\u001B[38;5;241m.\u001B[39mmethod,\n\u001B[1;32m    488\u001B[0m         url\u001B[38;5;241m=\u001B[39murl,\n\u001B[1;32m    489\u001B[0m         body\u001B[38;5;241m=\u001B[39mrequest\u001B[38;5;241m.\u001B[39mbody,\n\u001B[1;32m    490\u001B[0m         headers\u001B[38;5;241m=\u001B[39mrequest\u001B[38;5;241m.\u001B[39mheaders,\n\u001B[1;32m    491\u001B[0m         redirect\u001B[38;5;241m=\u001B[39m\u001B[38;5;28;01mFalse\u001B[39;00m,\n\u001B[1;32m    492\u001B[0m         assert_same_host\u001B[38;5;241m=\u001B[39m\u001B[38;5;28;01mFalse\u001B[39;00m,\n\u001B[1;32m    493\u001B[0m         preload_content\u001B[38;5;241m=\u001B[39m\u001B[38;5;28;01mFalse\u001B[39;00m,\n\u001B[1;32m    494\u001B[0m         decode_content\u001B[38;5;241m=\u001B[39m\u001B[38;5;28;01mFalse\u001B[39;00m,\n\u001B[1;32m    495\u001B[0m         retries\u001B[38;5;241m=\u001B[39m\u001B[38;5;28mself\u001B[39m\u001B[38;5;241m.\u001B[39mmax_retries,\n\u001B[1;32m    496\u001B[0m         timeout\u001B[38;5;241m=\u001B[39mtimeout,\n\u001B[1;32m    497\u001B[0m         chunked\u001B[38;5;241m=\u001B[39mchunked,\n\u001B[1;32m    498\u001B[0m     )\n\u001B[1;32m    500\u001B[0m \u001B[38;5;28;01mexcept\u001B[39;00m (ProtocolError, \u001B[38;5;167;01mOSError\u001B[39;00m) \u001B[38;5;28;01mas\u001B[39;00m err:\n\u001B[1;32m    501\u001B[0m     \u001B[38;5;28;01mraise\u001B[39;00m \u001B[38;5;167;01mConnectionError\u001B[39;00m(err, request\u001B[38;5;241m=\u001B[39mrequest)\n",
      "File \u001B[0;32m~/anaconda3/lib/python3.11/site-packages/urllib3/connectionpool.py:791\u001B[0m, in \u001B[0;36mHTTPConnectionPool.urlopen\u001B[0;34m(self, method, url, body, headers, retries, redirect, assert_same_host, timeout, pool_timeout, release_conn, chunked, body_pos, preload_content, decode_content, **response_kw)\u001B[0m\n\u001B[1;32m    788\u001B[0m response_conn \u001B[38;5;241m=\u001B[39m conn \u001B[38;5;28;01mif\u001B[39;00m \u001B[38;5;129;01mnot\u001B[39;00m release_conn \u001B[38;5;28;01melse\u001B[39;00m \u001B[38;5;28;01mNone\u001B[39;00m\n\u001B[1;32m    790\u001B[0m \u001B[38;5;66;03m# Make the request on the HTTPConnection object\u001B[39;00m\n\u001B[0;32m--> 791\u001B[0m response \u001B[38;5;241m=\u001B[39m \u001B[38;5;28mself\u001B[39m\u001B[38;5;241m.\u001B[39m_make_request(\n\u001B[1;32m    792\u001B[0m     conn,\n\u001B[1;32m    793\u001B[0m     method,\n\u001B[1;32m    794\u001B[0m     url,\n\u001B[1;32m    795\u001B[0m     timeout\u001B[38;5;241m=\u001B[39mtimeout_obj,\n\u001B[1;32m    796\u001B[0m     body\u001B[38;5;241m=\u001B[39mbody,\n\u001B[1;32m    797\u001B[0m     headers\u001B[38;5;241m=\u001B[39mheaders,\n\u001B[1;32m    798\u001B[0m     chunked\u001B[38;5;241m=\u001B[39mchunked,\n\u001B[1;32m    799\u001B[0m     retries\u001B[38;5;241m=\u001B[39mretries,\n\u001B[1;32m    800\u001B[0m     response_conn\u001B[38;5;241m=\u001B[39mresponse_conn,\n\u001B[1;32m    801\u001B[0m     preload_content\u001B[38;5;241m=\u001B[39mpreload_content,\n\u001B[1;32m    802\u001B[0m     decode_content\u001B[38;5;241m=\u001B[39mdecode_content,\n\u001B[1;32m    803\u001B[0m     \u001B[38;5;241m*\u001B[39m\u001B[38;5;241m*\u001B[39mresponse_kw,\n\u001B[1;32m    804\u001B[0m )\n\u001B[1;32m    806\u001B[0m \u001B[38;5;66;03m# Everything went great!\u001B[39;00m\n\u001B[1;32m    807\u001B[0m clean_exit \u001B[38;5;241m=\u001B[39m \u001B[38;5;28;01mTrue\u001B[39;00m\n",
      "File \u001B[0;32m~/anaconda3/lib/python3.11/site-packages/urllib3/connectionpool.py:537\u001B[0m, in \u001B[0;36mHTTPConnectionPool._make_request\u001B[0;34m(self, conn, method, url, body, headers, retries, timeout, chunked, response_conn, preload_content, decode_content, enforce_content_length)\u001B[0m\n\u001B[1;32m    535\u001B[0m \u001B[38;5;66;03m# Receive the response from the server\u001B[39;00m\n\u001B[1;32m    536\u001B[0m \u001B[38;5;28;01mtry\u001B[39;00m:\n\u001B[0;32m--> 537\u001B[0m     response \u001B[38;5;241m=\u001B[39m conn\u001B[38;5;241m.\u001B[39mgetresponse()\n\u001B[1;32m    538\u001B[0m \u001B[38;5;28;01mexcept\u001B[39;00m (BaseSSLError, \u001B[38;5;167;01mOSError\u001B[39;00m) \u001B[38;5;28;01mas\u001B[39;00m e:\n\u001B[1;32m    539\u001B[0m     \u001B[38;5;28mself\u001B[39m\u001B[38;5;241m.\u001B[39m_raise_timeout(err\u001B[38;5;241m=\u001B[39me, url\u001B[38;5;241m=\u001B[39murl, timeout_value\u001B[38;5;241m=\u001B[39mread_timeout)\n",
      "File \u001B[0;32m~/anaconda3/lib/python3.11/site-packages/urllib3/connection.py:461\u001B[0m, in \u001B[0;36mHTTPConnection.getresponse\u001B[0;34m(self)\u001B[0m\n\u001B[1;32m    458\u001B[0m \u001B[38;5;28;01mfrom\u001B[39;00m \u001B[38;5;21;01m.\u001B[39;00m\u001B[38;5;21;01mresponse\u001B[39;00m \u001B[38;5;28;01mimport\u001B[39;00m HTTPResponse\n\u001B[1;32m    460\u001B[0m \u001B[38;5;66;03m# Get the response from http.client.HTTPConnection\u001B[39;00m\n\u001B[0;32m--> 461\u001B[0m httplib_response \u001B[38;5;241m=\u001B[39m \u001B[38;5;28msuper\u001B[39m()\u001B[38;5;241m.\u001B[39mgetresponse()\n\u001B[1;32m    463\u001B[0m \u001B[38;5;28;01mtry\u001B[39;00m:\n\u001B[1;32m    464\u001B[0m     assert_header_parsing(httplib_response\u001B[38;5;241m.\u001B[39mmsg)\n",
      "File \u001B[0;32m~/anaconda3/lib/python3.11/http/client.py:1378\u001B[0m, in \u001B[0;36mHTTPConnection.getresponse\u001B[0;34m(self)\u001B[0m\n\u001B[1;32m   1376\u001B[0m \u001B[38;5;28;01mtry\u001B[39;00m:\n\u001B[1;32m   1377\u001B[0m     \u001B[38;5;28;01mtry\u001B[39;00m:\n\u001B[0;32m-> 1378\u001B[0m         response\u001B[38;5;241m.\u001B[39mbegin()\n\u001B[1;32m   1379\u001B[0m     \u001B[38;5;28;01mexcept\u001B[39;00m \u001B[38;5;167;01mConnectionError\u001B[39;00m:\n\u001B[1;32m   1380\u001B[0m         \u001B[38;5;28mself\u001B[39m\u001B[38;5;241m.\u001B[39mclose()\n",
      "File \u001B[0;32m~/anaconda3/lib/python3.11/http/client.py:318\u001B[0m, in \u001B[0;36mHTTPResponse.begin\u001B[0;34m(self)\u001B[0m\n\u001B[1;32m    316\u001B[0m \u001B[38;5;66;03m# read until we get a non-100 response\u001B[39;00m\n\u001B[1;32m    317\u001B[0m \u001B[38;5;28;01mwhile\u001B[39;00m \u001B[38;5;28;01mTrue\u001B[39;00m:\n\u001B[0;32m--> 318\u001B[0m     version, status, reason \u001B[38;5;241m=\u001B[39m \u001B[38;5;28mself\u001B[39m\u001B[38;5;241m.\u001B[39m_read_status()\n\u001B[1;32m    319\u001B[0m     \u001B[38;5;28;01mif\u001B[39;00m status \u001B[38;5;241m!=\u001B[39m CONTINUE:\n\u001B[1;32m    320\u001B[0m         \u001B[38;5;28;01mbreak\u001B[39;00m\n",
      "File \u001B[0;32m~/anaconda3/lib/python3.11/http/client.py:279\u001B[0m, in \u001B[0;36mHTTPResponse._read_status\u001B[0;34m(self)\u001B[0m\n\u001B[1;32m    278\u001B[0m \u001B[38;5;28;01mdef\u001B[39;00m \u001B[38;5;21m_read_status\u001B[39m(\u001B[38;5;28mself\u001B[39m):\n\u001B[0;32m--> 279\u001B[0m     line \u001B[38;5;241m=\u001B[39m \u001B[38;5;28mstr\u001B[39m(\u001B[38;5;28mself\u001B[39m\u001B[38;5;241m.\u001B[39mfp\u001B[38;5;241m.\u001B[39mreadline(_MAXLINE \u001B[38;5;241m+\u001B[39m \u001B[38;5;241m1\u001B[39m), \u001B[38;5;124m\"\u001B[39m\u001B[38;5;124miso-8859-1\u001B[39m\u001B[38;5;124m\"\u001B[39m)\n\u001B[1;32m    280\u001B[0m     \u001B[38;5;28;01mif\u001B[39;00m \u001B[38;5;28mlen\u001B[39m(line) \u001B[38;5;241m>\u001B[39m _MAXLINE:\n\u001B[1;32m    281\u001B[0m         \u001B[38;5;28;01mraise\u001B[39;00m LineTooLong(\u001B[38;5;124m\"\u001B[39m\u001B[38;5;124mstatus line\u001B[39m\u001B[38;5;124m\"\u001B[39m)\n",
      "File \u001B[0;32m~/anaconda3/lib/python3.11/socket.py:706\u001B[0m, in \u001B[0;36mSocketIO.readinto\u001B[0;34m(self, b)\u001B[0m\n\u001B[1;32m    704\u001B[0m \u001B[38;5;28;01mwhile\u001B[39;00m \u001B[38;5;28;01mTrue\u001B[39;00m:\n\u001B[1;32m    705\u001B[0m     \u001B[38;5;28;01mtry\u001B[39;00m:\n\u001B[0;32m--> 706\u001B[0m         \u001B[38;5;28;01mreturn\u001B[39;00m \u001B[38;5;28mself\u001B[39m\u001B[38;5;241m.\u001B[39m_sock\u001B[38;5;241m.\u001B[39mrecv_into(b)\n\u001B[1;32m    707\u001B[0m     \u001B[38;5;28;01mexcept\u001B[39;00m timeout:\n\u001B[1;32m    708\u001B[0m         \u001B[38;5;28mself\u001B[39m\u001B[38;5;241m.\u001B[39m_timeout_occurred \u001B[38;5;241m=\u001B[39m \u001B[38;5;28;01mTrue\u001B[39;00m\n",
      "\u001B[0;31mKeyboardInterrupt\u001B[0m: "
     ]
    }
   ],
   "source": [
    "\n",
    "moral_machine = h2o.import_file(\"/Users/cancokisler/Downloads/Datasets/Moral Machine Data/SharedResponses.csv\")"
   ],
   "metadata": {
    "collapsed": false,
    "ExecuteTime": {
     "end_time": "2024-03-12T16:48:24.954999Z",
     "start_time": "2024-03-12T16:34:07.514528Z"
    }
   },
   "id": "9ce55aed40f69d90"
  },
  {
   "cell_type": "code",
   "execution_count": null,
   "outputs": [],
   "source": [],
   "metadata": {
    "collapsed": false
   },
   "id": "18bc6fb9bf3f4fc4"
  },
  {
   "cell_type": "code",
   "execution_count": 74,
   "outputs": [],
   "source": [
    "df_lol = df_dropped.drop(['ResponseID', 'ExtendedSessionID', 'UserID', 'Template'], axis=1).sample(frac=0.0001)"
   ],
   "metadata": {
    "collapsed": false,
    "ExecuteTime": {
     "end_time": "2024-03-12T18:23:32.397078Z",
     "start_time": "2024-03-12T18:23:32.394281Z"
    }
   },
   "id": "302cf403073b2556"
  },
  {
   "cell_type": "code",
   "execution_count": 64,
   "outputs": [],
   "source": [
    "df_lol['UserCountry3'] = df_lol['UserCountry3'].astype('string')"
   ],
   "metadata": {
    "collapsed": false,
    "ExecuteTime": {
     "end_time": "2024-03-12T18:22:27.609566Z",
     "start_time": "2024-03-12T18:22:27.605034Z"
    }
   },
   "id": "b76ee0d8c024906b"
  },
  {
   "cell_type": "code",
   "execution_count": 81,
   "outputs": [
    {
     "ename": "ValueError",
     "evalue": "could not convert string to float: '(nan, nan, nan, nan)'",
     "output_type": "error",
     "traceback": [
      "\u001B[0;31m---------------------------------------------------------------------------\u001B[0m",
      "\u001B[0;31mTypeError\u001B[0m                                 Traceback (most recent call last)",
      "File \u001B[0;32mparsers.pyx:1160\u001B[0m, in \u001B[0;36mpandas._libs.parsers.TextReader._convert_tokens\u001B[0;34m()\u001B[0m\n",
      "\u001B[0;31mTypeError\u001B[0m: Cannot cast array data from dtype('O') to dtype('float64') according to the rule 'safe'",
      "\nDuring handling of the above exception, another exception occurred:\n",
      "\u001B[0;31mValueError\u001B[0m                                Traceback (most recent call last)",
      "Cell \u001B[0;32mIn[81], line 1\u001B[0m\n\u001B[0;32m----> 1\u001B[0m df_lol\u001B[38;5;241m.\u001B[39mto_csv(\u001B[38;5;124m\"\u001B[39m\u001B[38;5;124mminified_data.csv\u001B[39m\u001B[38;5;124m\"\u001B[39m, single_file\u001B[38;5;241m=\u001B[39m\u001B[38;5;28;01mTrue\u001B[39;00m, index\u001B[38;5;241m=\u001B[39m\u001B[38;5;28;01mFalse\u001B[39;00m, compute\u001B[38;5;241m=\u001B[39m\u001B[38;5;28;01mTrue\u001B[39;00m)\n",
      "File \u001B[0;32m~/anaconda3/lib/python3.11/site-packages/dask/dataframe/core.py:2000\u001B[0m, in \u001B[0;36m_Frame.to_csv\u001B[0;34m(self, filename, **kwargs)\u001B[0m\n\u001B[1;32m   1997\u001B[0m \u001B[38;5;250m\u001B[39m\u001B[38;5;124;03m\"\"\"See dd.to_csv docstring for more information\"\"\"\u001B[39;00m\n\u001B[1;32m   1998\u001B[0m \u001B[38;5;28;01mfrom\u001B[39;00m \u001B[38;5;21;01mdask\u001B[39;00m\u001B[38;5;21;01m.\u001B[39;00m\u001B[38;5;21;01mdataframe\u001B[39;00m\u001B[38;5;21;01m.\u001B[39;00m\u001B[38;5;21;01mio\u001B[39;00m \u001B[38;5;28;01mimport\u001B[39;00m to_csv\n\u001B[0;32m-> 2000\u001B[0m \u001B[38;5;28;01mreturn\u001B[39;00m to_csv(\u001B[38;5;28mself\u001B[39m, filename, \u001B[38;5;241m*\u001B[39m\u001B[38;5;241m*\u001B[39mkwargs)\n",
      "File \u001B[0;32m~/anaconda3/lib/python3.11/site-packages/dask/dataframe/io/csv.py:997\u001B[0m, in \u001B[0;36mto_csv\u001B[0;34m(df, filename, single_file, encoding, mode, name_function, compression, compute, scheduler, storage_options, header_first_partition_only, compute_kwargs, **kwargs)\u001B[0m\n\u001B[1;32m    993\u001B[0m         compute_kwargs[\u001B[38;5;124m\"\u001B[39m\u001B[38;5;124mscheduler\u001B[39m\u001B[38;5;124m\"\u001B[39m] \u001B[38;5;241m=\u001B[39m scheduler\n\u001B[1;32m    995\u001B[0m     \u001B[38;5;28;01mimport\u001B[39;00m \u001B[38;5;21;01mdask\u001B[39;00m\n\u001B[0;32m--> 997\u001B[0m     \u001B[38;5;28;01mreturn\u001B[39;00m \u001B[38;5;28mlist\u001B[39m(dask\u001B[38;5;241m.\u001B[39mcompute(\u001B[38;5;241m*\u001B[39mvalues, \u001B[38;5;241m*\u001B[39m\u001B[38;5;241m*\u001B[39mcompute_kwargs))\n\u001B[1;32m    998\u001B[0m \u001B[38;5;28;01melse\u001B[39;00m:\n\u001B[1;32m    999\u001B[0m     \u001B[38;5;28;01mreturn\u001B[39;00m values\n",
      "File \u001B[0;32m~/anaconda3/lib/python3.11/site-packages/dask/base.py:628\u001B[0m, in \u001B[0;36mcompute\u001B[0;34m(traverse, optimize_graph, scheduler, get, *args, **kwargs)\u001B[0m\n\u001B[1;32m    625\u001B[0m     postcomputes\u001B[38;5;241m.\u001B[39mappend(x\u001B[38;5;241m.\u001B[39m__dask_postcompute__())\n\u001B[1;32m    627\u001B[0m \u001B[38;5;28;01mwith\u001B[39;00m shorten_traceback():\n\u001B[0;32m--> 628\u001B[0m     results \u001B[38;5;241m=\u001B[39m schedule(dsk, keys, \u001B[38;5;241m*\u001B[39m\u001B[38;5;241m*\u001B[39mkwargs)\n\u001B[1;32m    630\u001B[0m \u001B[38;5;28;01mreturn\u001B[39;00m repack([f(r, \u001B[38;5;241m*\u001B[39ma) \u001B[38;5;28;01mfor\u001B[39;00m r, (f, a) \u001B[38;5;129;01min\u001B[39;00m \u001B[38;5;28mzip\u001B[39m(results, postcomputes)])\n",
      "File \u001B[0;32m~/anaconda3/lib/python3.11/site-packages/dask/dataframe/io/csv.py:142\u001B[0m, in \u001B[0;36mCSVFunctionWrapper.__call__\u001B[0;34m(self, part)\u001B[0m\n\u001B[1;32m    139\u001B[0m         rest_kwargs[\u001B[38;5;124m\"\u001B[39m\u001B[38;5;124musecols\u001B[39m\u001B[38;5;124m\"\u001B[39m] \u001B[38;5;241m=\u001B[39m columns\n\u001B[1;32m    141\u001B[0m \u001B[38;5;66;03m# Call `pandas_read_text`\u001B[39;00m\n\u001B[0;32m--> 142\u001B[0m df \u001B[38;5;241m=\u001B[39m pandas_read_text(\n\u001B[1;32m    143\u001B[0m     \u001B[38;5;28mself\u001B[39m\u001B[38;5;241m.\u001B[39mreader,\n\u001B[1;32m    144\u001B[0m     block,\n\u001B[1;32m    145\u001B[0m     \u001B[38;5;28mself\u001B[39m\u001B[38;5;241m.\u001B[39mheader,\n\u001B[1;32m    146\u001B[0m     rest_kwargs,\n\u001B[1;32m    147\u001B[0m     \u001B[38;5;28mself\u001B[39m\u001B[38;5;241m.\u001B[39mdtypes,\n\u001B[1;32m    148\u001B[0m     columns,\n\u001B[1;32m    149\u001B[0m     write_header,\n\u001B[1;32m    150\u001B[0m     \u001B[38;5;28mself\u001B[39m\u001B[38;5;241m.\u001B[39menforce,\n\u001B[1;32m    151\u001B[0m     path_info,\n\u001B[1;32m    152\u001B[0m )\n\u001B[1;32m    153\u001B[0m \u001B[38;5;28;01mif\u001B[39;00m project_after_read:\n\u001B[1;32m    154\u001B[0m     \u001B[38;5;28;01mreturn\u001B[39;00m df[\u001B[38;5;28mself\u001B[39m\u001B[38;5;241m.\u001B[39mcolumns]\n",
      "File \u001B[0;32m~/anaconda3/lib/python3.11/site-packages/dask/dataframe/io/csv.py:195\u001B[0m, in \u001B[0;36mpandas_read_text\u001B[0;34m(reader, b, header, kwargs, dtypes, columns, write_header, enforce, path)\u001B[0m\n\u001B[1;32m    193\u001B[0m bio\u001B[38;5;241m.\u001B[39mwrite(b)\n\u001B[1;32m    194\u001B[0m bio\u001B[38;5;241m.\u001B[39mseek(\u001B[38;5;241m0\u001B[39m)\n\u001B[0;32m--> 195\u001B[0m df \u001B[38;5;241m=\u001B[39m reader(bio, \u001B[38;5;241m*\u001B[39m\u001B[38;5;241m*\u001B[39mkwargs)\n\u001B[1;32m    196\u001B[0m \u001B[38;5;28;01mif\u001B[39;00m dtypes:\n\u001B[1;32m    197\u001B[0m     coerce_dtypes(df, dtypes)\n",
      "File \u001B[0;32m~/anaconda3/lib/python3.11/site-packages/pandas/io/parsers/readers.py:948\u001B[0m, in \u001B[0;36mread_csv\u001B[0;34m(filepath_or_buffer, sep, delimiter, header, names, index_col, usecols, dtype, engine, converters, true_values, false_values, skipinitialspace, skiprows, skipfooter, nrows, na_values, keep_default_na, na_filter, verbose, skip_blank_lines, parse_dates, infer_datetime_format, keep_date_col, date_parser, date_format, dayfirst, cache_dates, iterator, chunksize, compression, thousands, decimal, lineterminator, quotechar, quoting, doublequote, escapechar, comment, encoding, encoding_errors, dialect, on_bad_lines, delim_whitespace, low_memory, memory_map, float_precision, storage_options, dtype_backend)\u001B[0m\n\u001B[1;32m    935\u001B[0m kwds_defaults \u001B[38;5;241m=\u001B[39m _refine_defaults_read(\n\u001B[1;32m    936\u001B[0m     dialect,\n\u001B[1;32m    937\u001B[0m     delimiter,\n\u001B[0;32m   (...)\u001B[0m\n\u001B[1;32m    944\u001B[0m     dtype_backend\u001B[38;5;241m=\u001B[39mdtype_backend,\n\u001B[1;32m    945\u001B[0m )\n\u001B[1;32m    946\u001B[0m kwds\u001B[38;5;241m.\u001B[39mupdate(kwds_defaults)\n\u001B[0;32m--> 948\u001B[0m \u001B[38;5;28;01mreturn\u001B[39;00m _read(filepath_or_buffer, kwds)\n",
      "File \u001B[0;32m~/anaconda3/lib/python3.11/site-packages/pandas/io/parsers/readers.py:617\u001B[0m, in \u001B[0;36m_read\u001B[0;34m(filepath_or_buffer, kwds)\u001B[0m\n\u001B[1;32m    614\u001B[0m     \u001B[38;5;28;01mreturn\u001B[39;00m parser\n\u001B[1;32m    616\u001B[0m \u001B[38;5;28;01mwith\u001B[39;00m parser:\n\u001B[0;32m--> 617\u001B[0m     \u001B[38;5;28;01mreturn\u001B[39;00m parser\u001B[38;5;241m.\u001B[39mread(nrows)\n",
      "File \u001B[0;32m~/anaconda3/lib/python3.11/site-packages/pandas/io/parsers/readers.py:1748\u001B[0m, in \u001B[0;36mTextFileReader.read\u001B[0;34m(self, nrows)\u001B[0m\n\u001B[1;32m   1741\u001B[0m nrows \u001B[38;5;241m=\u001B[39m validate_integer(\u001B[38;5;124m\"\u001B[39m\u001B[38;5;124mnrows\u001B[39m\u001B[38;5;124m\"\u001B[39m, nrows)\n\u001B[1;32m   1742\u001B[0m \u001B[38;5;28;01mtry\u001B[39;00m:\n\u001B[1;32m   1743\u001B[0m     \u001B[38;5;66;03m# error: \"ParserBase\" has no attribute \"read\"\u001B[39;00m\n\u001B[1;32m   1744\u001B[0m     (\n\u001B[1;32m   1745\u001B[0m         index,\n\u001B[1;32m   1746\u001B[0m         columns,\n\u001B[1;32m   1747\u001B[0m         col_dict,\n\u001B[0;32m-> 1748\u001B[0m     ) \u001B[38;5;241m=\u001B[39m \u001B[38;5;28mself\u001B[39m\u001B[38;5;241m.\u001B[39m_engine\u001B[38;5;241m.\u001B[39mread(  \u001B[38;5;66;03m# type: ignore[attr-defined]\u001B[39;00m\n\u001B[1;32m   1749\u001B[0m         nrows\n\u001B[1;32m   1750\u001B[0m     )\n\u001B[1;32m   1751\u001B[0m \u001B[38;5;28;01mexcept\u001B[39;00m \u001B[38;5;167;01mException\u001B[39;00m:\n\u001B[1;32m   1752\u001B[0m     \u001B[38;5;28mself\u001B[39m\u001B[38;5;241m.\u001B[39mclose()\n",
      "File \u001B[0;32m~/anaconda3/lib/python3.11/site-packages/pandas/io/parsers/c_parser_wrapper.py:234\u001B[0m, in \u001B[0;36mCParserWrapper.read\u001B[0;34m(self, nrows)\u001B[0m\n\u001B[1;32m    232\u001B[0m \u001B[38;5;28;01mtry\u001B[39;00m:\n\u001B[1;32m    233\u001B[0m     \u001B[38;5;28;01mif\u001B[39;00m \u001B[38;5;28mself\u001B[39m\u001B[38;5;241m.\u001B[39mlow_memory:\n\u001B[0;32m--> 234\u001B[0m         chunks \u001B[38;5;241m=\u001B[39m \u001B[38;5;28mself\u001B[39m\u001B[38;5;241m.\u001B[39m_reader\u001B[38;5;241m.\u001B[39mread_low_memory(nrows)\n\u001B[1;32m    235\u001B[0m         \u001B[38;5;66;03m# destructive to chunks\u001B[39;00m\n\u001B[1;32m    236\u001B[0m         data \u001B[38;5;241m=\u001B[39m _concatenate_chunks(chunks)\n",
      "File \u001B[0;32mparsers.pyx:843\u001B[0m, in \u001B[0;36mpandas._libs.parsers.TextReader.read_low_memory\u001B[0;34m()\u001B[0m\n",
      "File \u001B[0;32mparsers.pyx:920\u001B[0m, in \u001B[0;36mpandas._libs.parsers.TextReader._read_rows\u001B[0;34m()\u001B[0m\n",
      "File \u001B[0;32mparsers.pyx:1065\u001B[0m, in \u001B[0;36mpandas._libs.parsers.TextReader._convert_column_data\u001B[0;34m()\u001B[0m\n",
      "File \u001B[0;32mparsers.pyx:1166\u001B[0m, in \u001B[0;36mpandas._libs.parsers.TextReader._convert_tokens\u001B[0;34m()\u001B[0m\n",
      "\u001B[0;31mValueError\u001B[0m: could not convert string to float: '(nan, nan, nan, nan)'"
     ]
    }
   ],
   "source": [
    "df_lol.to_csv(\"minified_data.csv\", single_file=True, index=False, compute=True)"
   ],
   "metadata": {
    "collapsed": false,
    "ExecuteTime": {
     "end_time": "2024-03-12T18:28:39.427737Z",
     "start_time": "2024-03-12T18:28:35.404653Z"
    }
   },
   "id": "cc3730dbb502433c"
  },
  {
   "cell_type": "code",
   "execution_count": 79,
   "outputs": [
    {
     "name": "stdout",
     "output_type": "stream",
     "text": [
      "Dask DataFrame Structure:\n",
      "                ScenarioOrder Intervention PedPed Barrier CrossingSignal AttributeLevel ScenarioTypeStrict ScenarioType DefaultChoice NonDefaultChoice DefaultChoiceIsOmission NumberOfCharacters DiffNumberOFCharacters  Saved DescriptionShown LeftHand UserCountry3      Man    Woman Pregnant Stroller   OldMan OldWoman      Boy     Girl Homeless LargeWoman LargeMan Criminal MaleExecutive FemaleExecutive FemaleAthlete MaleAthlete FemaleDoctor MaleDoctor      Dog      Cat\n",
      "npartitions=181                                                                                                                                                                                                                                                                                                                                                                                                                                                                       \n",
      "                        int64        int64  int64   int64          int64         string             string       string        string           string                 float64            float64                float64  int64          float64  float64       string  float64  float64  float64  float64  float64  float64  float64  float64  float64    float64  float64  float64       float64         float64       float64     float64      float64    float64  float64  float64\n",
      "                          ...          ...    ...     ...            ...            ...                ...          ...           ...              ...                     ...                ...                    ...    ...              ...      ...          ...      ...      ...      ...      ...      ...      ...      ...      ...      ...        ...      ...      ...           ...             ...           ...         ...          ...        ...      ...      ...\n",
      "...                       ...          ...    ...     ...            ...            ...                ...          ...           ...              ...                     ...                ...                    ...    ...              ...      ...          ...      ...      ...      ...      ...      ...      ...      ...      ...      ...        ...      ...      ...           ...             ...           ...         ...          ...        ...      ...      ...\n",
      "                          ...          ...    ...     ...            ...            ...                ...          ...           ...              ...                     ...                ...                    ...    ...              ...      ...          ...      ...      ...      ...      ...      ...      ...      ...      ...      ...        ...      ...      ...           ...             ...           ...         ...          ...        ...      ...      ...\n",
      "                          ...          ...    ...     ...            ...            ...                ...          ...           ...              ...                     ...                ...                    ...    ...              ...      ...          ...      ...      ...      ...      ...      ...      ...      ...      ...      ...        ...      ...      ...           ...             ...           ...         ...          ...        ...      ...      ...\n",
      "Dask Name: sample, 5 graph layers\n"
     ]
    }
   ],
   "source": [
    "print(df_lol)"
   ],
   "metadata": {
    "collapsed": false,
    "ExecuteTime": {
     "end_time": "2024-03-12T18:24:30.445625Z",
     "start_time": "2024-03-12T18:24:30.430835Z"
    }
   },
   "id": "394f0bc7ca8a43bc"
  },
  {
   "cell_type": "code",
   "execution_count": 84,
   "outputs": [],
   "source": [
    "df_bruh = dask.dataframe.read_csv(\"/Users/cancokisler/Downloads/Datasets/Moral Machine Data/SharedResponses.csv\", assume_missing=True)\n",
    "\n",
    "df_dropped_bruh = df_bruh.dropna()"
   ],
   "metadata": {
    "collapsed": false,
    "ExecuteTime": {
     "end_time": "2024-03-12T18:30:10.616824Z",
     "start_time": "2024-03-12T18:30:10.579251Z"
    }
   },
   "id": "b6624051a9eb6f53"
  },
  {
   "cell_type": "code",
   "execution_count": 92,
   "outputs": [
    {
     "ename": "NotImplementedError",
     "evalue": "dd.DataFrame.apply only supports axis=1\n  Try: df.apply(func, axis=1)",
     "output_type": "error",
     "traceback": [
      "\u001B[0;31m---------------------------------------------------------------------------\u001B[0m",
      "\u001B[0;31mNotImplementedError\u001B[0m                       Traceback (most recent call last)",
      "Cell \u001B[0;32mIn[92], line 3\u001B[0m\n\u001B[1;32m      1\u001B[0m df_sampled \u001B[38;5;241m=\u001B[39m df_dropped_bruh\u001B[38;5;241m.\u001B[39msample(frac\u001B[38;5;241m=\u001B[39m\u001B[38;5;241m0.0001\u001B[39m)\n\u001B[0;32m----> 3\u001B[0m df_sampled[[\u001B[38;5;124m'\u001B[39m\u001B[38;5;124mMan\u001B[39m\u001B[38;5;124m'\u001B[39m]] \u001B[38;5;241m=\u001B[39m df_sampled[[\u001B[38;5;124m'\u001B[39m\u001B[38;5;124mMan\u001B[39m\u001B[38;5;124m'\u001B[39m]]\u001B[38;5;241m.\u001B[39mapply(pd\u001B[38;5;241m.\u001B[39mto_numeric,meta\u001B[38;5;241m=\u001B[39m(\u001B[38;5;124m'\u001B[39m\u001B[38;5;124mMan\u001B[39m\u001B[38;5;124m'\u001B[39m, \u001B[38;5;124m'\u001B[39m\u001B[38;5;124mfloat64\u001B[39m\u001B[38;5;124m'\u001B[39m), errors\u001B[38;5;241m=\u001B[39m\u001B[38;5;124m'\u001B[39m\u001B[38;5;124mcoerce\u001B[39m\u001B[38;5;124m'\u001B[39m)\n",
      "File \u001B[0;32m~/anaconda3/lib/python3.11/site-packages/dask/dataframe/core.py:6144\u001B[0m, in \u001B[0;36mDataFrame.apply\u001B[0;34m(self, func, axis, broadcast, raw, reduce, args, meta, result_type, **kwds)\u001B[0m\n\u001B[1;32m   6139\u001B[0m \u001B[38;5;28;01mif\u001B[39;00m axis \u001B[38;5;241m==\u001B[39m \u001B[38;5;241m0\u001B[39m:\n\u001B[1;32m   6140\u001B[0m     msg \u001B[38;5;241m=\u001B[39m (\n\u001B[1;32m   6141\u001B[0m         \u001B[38;5;124m\"\u001B[39m\u001B[38;5;124mdd.DataFrame.apply only supports axis=1\u001B[39m\u001B[38;5;130;01m\\n\u001B[39;00m\u001B[38;5;124m\"\u001B[39m\n\u001B[1;32m   6142\u001B[0m         \u001B[38;5;124m\"\u001B[39m\u001B[38;5;124m  Try: df.apply(func, axis=1)\u001B[39m\u001B[38;5;124m\"\u001B[39m\n\u001B[1;32m   6143\u001B[0m     )\n\u001B[0;32m-> 6144\u001B[0m     \u001B[38;5;28;01mraise\u001B[39;00m \u001B[38;5;167;01mNotImplementedError\u001B[39;00m(msg)\n\u001B[1;32m   6146\u001B[0m \u001B[38;5;28;01mif\u001B[39;00m meta \u001B[38;5;129;01mis\u001B[39;00m no_default:\n\u001B[1;32m   6147\u001B[0m     meta \u001B[38;5;241m=\u001B[39m _emulate(\n\u001B[1;32m   6148\u001B[0m         M\u001B[38;5;241m.\u001B[39mapply, \u001B[38;5;28mself\u001B[39m\u001B[38;5;241m.\u001B[39m_meta_nonempty, func, args\u001B[38;5;241m=\u001B[39margs, udf\u001B[38;5;241m=\u001B[39m\u001B[38;5;28;01mTrue\u001B[39;00m, \u001B[38;5;241m*\u001B[39m\u001B[38;5;241m*\u001B[39mkwds\n\u001B[1;32m   6149\u001B[0m     )\n",
      "\u001B[0;31mNotImplementedError\u001B[0m: dd.DataFrame.apply only supports axis=1\n  Try: df.apply(func, axis=1)"
     ]
    }
   ],
   "source": [
    "df_sampled = df_dropped_bruh.sample(frac=0.0001)\n",
    "\n",
    "df_sampled[['Man'] = df_sampled[['Man'].apply(pd.to_numeric,meta=('Man', 'float64'), errors='coerce')\n"
   ],
   "metadata": {
    "collapsed": false,
    "ExecuteTime": {
     "end_time": "2024-03-12T18:42:19.586265Z",
     "start_time": "2024-03-12T18:42:19.561628Z"
    }
   },
   "id": "15194059fe8452c8"
  },
  {
   "cell_type": "code",
   "execution_count": 91,
   "outputs": [
    {
     "name": "stderr",
     "output_type": "stream",
     "text": [
      "/Users/cancokisler/anaconda3/lib/python3.11/site-packages/dask/dataframe/io/csv.py:195: DtypeWarning: Columns (21) have mixed types. Specify dtype option on import or set low_memory=False.\n",
      "  df = reader(bio, **kwargs)\n"
     ]
    },
    {
     "ename": "ValueError",
     "evalue": "Mismatched dtypes found in `pd.read_csv`/`pd.read_table`.\n\n+--------+--------+----------+\n| Column | Found  | Expected |\n+--------+--------+----------+\n| Man    | object | float64  |\n+--------+--------+----------+\n\nThe following columns also raised exceptions on conversion:\n\n- Man\n  ValueError(\"could not convert string to float: '(nan, nan, nan, nan)'\")\n\nUsually this is due to dask's dtype inference failing, and\n*may* be fixed by specifying dtypes manually by adding:\n\ndtype={'Man': 'object'}\n\nto the call to `read_csv`/`read_table`.",
     "output_type": "error",
     "traceback": [
      "\u001B[0;31m---------------------------------------------------------------------------\u001B[0m",
      "\u001B[0;31mValueError\u001B[0m                                Traceback (most recent call last)",
      "Cell \u001B[0;32mIn[91], line 1\u001B[0m\n\u001B[0;32m----> 1\u001B[0m df_sampled\u001B[38;5;241m.\u001B[39mto_csv(\u001B[38;5;124m\"\u001B[39m\u001B[38;5;124mminified_data.csv\u001B[39m\u001B[38;5;124m\"\u001B[39m, single_file\u001B[38;5;241m=\u001B[39m\u001B[38;5;28;01mTrue\u001B[39;00m, index\u001B[38;5;241m=\u001B[39m\u001B[38;5;28;01mFalse\u001B[39;00m, compute\u001B[38;5;241m=\u001B[39m\u001B[38;5;28;01mTrue\u001B[39;00m)\n",
      "File \u001B[0;32m~/anaconda3/lib/python3.11/site-packages/dask/dataframe/core.py:2000\u001B[0m, in \u001B[0;36m_Frame.to_csv\u001B[0;34m(self, filename, **kwargs)\u001B[0m\n\u001B[1;32m   1997\u001B[0m \u001B[38;5;250m\u001B[39m\u001B[38;5;124;03m\"\"\"See dd.to_csv docstring for more information\"\"\"\u001B[39;00m\n\u001B[1;32m   1998\u001B[0m \u001B[38;5;28;01mfrom\u001B[39;00m \u001B[38;5;21;01mdask\u001B[39;00m\u001B[38;5;21;01m.\u001B[39;00m\u001B[38;5;21;01mdataframe\u001B[39;00m\u001B[38;5;21;01m.\u001B[39;00m\u001B[38;5;21;01mio\u001B[39;00m \u001B[38;5;28;01mimport\u001B[39;00m to_csv\n\u001B[0;32m-> 2000\u001B[0m \u001B[38;5;28;01mreturn\u001B[39;00m to_csv(\u001B[38;5;28mself\u001B[39m, filename, \u001B[38;5;241m*\u001B[39m\u001B[38;5;241m*\u001B[39mkwargs)\n",
      "File \u001B[0;32m~/anaconda3/lib/python3.11/site-packages/dask/dataframe/io/csv.py:997\u001B[0m, in \u001B[0;36mto_csv\u001B[0;34m(df, filename, single_file, encoding, mode, name_function, compression, compute, scheduler, storage_options, header_first_partition_only, compute_kwargs, **kwargs)\u001B[0m\n\u001B[1;32m    993\u001B[0m         compute_kwargs[\u001B[38;5;124m\"\u001B[39m\u001B[38;5;124mscheduler\u001B[39m\u001B[38;5;124m\"\u001B[39m] \u001B[38;5;241m=\u001B[39m scheduler\n\u001B[1;32m    995\u001B[0m     \u001B[38;5;28;01mimport\u001B[39;00m \u001B[38;5;21;01mdask\u001B[39;00m\n\u001B[0;32m--> 997\u001B[0m     \u001B[38;5;28;01mreturn\u001B[39;00m \u001B[38;5;28mlist\u001B[39m(dask\u001B[38;5;241m.\u001B[39mcompute(\u001B[38;5;241m*\u001B[39mvalues, \u001B[38;5;241m*\u001B[39m\u001B[38;5;241m*\u001B[39mcompute_kwargs))\n\u001B[1;32m    998\u001B[0m \u001B[38;5;28;01melse\u001B[39;00m:\n\u001B[1;32m    999\u001B[0m     \u001B[38;5;28;01mreturn\u001B[39;00m values\n",
      "File \u001B[0;32m~/anaconda3/lib/python3.11/site-packages/dask/base.py:628\u001B[0m, in \u001B[0;36mcompute\u001B[0;34m(traverse, optimize_graph, scheduler, get, *args, **kwargs)\u001B[0m\n\u001B[1;32m    625\u001B[0m     postcomputes\u001B[38;5;241m.\u001B[39mappend(x\u001B[38;5;241m.\u001B[39m__dask_postcompute__())\n\u001B[1;32m    627\u001B[0m \u001B[38;5;28;01mwith\u001B[39;00m shorten_traceback():\n\u001B[0;32m--> 628\u001B[0m     results \u001B[38;5;241m=\u001B[39m schedule(dsk, keys, \u001B[38;5;241m*\u001B[39m\u001B[38;5;241m*\u001B[39mkwargs)\n\u001B[1;32m    630\u001B[0m \u001B[38;5;28;01mreturn\u001B[39;00m repack([f(r, \u001B[38;5;241m*\u001B[39ma) \u001B[38;5;28;01mfor\u001B[39;00m r, (f, a) \u001B[38;5;129;01min\u001B[39;00m \u001B[38;5;28mzip\u001B[39m(results, postcomputes)])\n",
      "File \u001B[0;32m~/anaconda3/lib/python3.11/site-packages/dask/dataframe/io/csv.py:142\u001B[0m, in \u001B[0;36mCSVFunctionWrapper.__call__\u001B[0;34m(self, part)\u001B[0m\n\u001B[1;32m    139\u001B[0m         rest_kwargs[\u001B[38;5;124m\"\u001B[39m\u001B[38;5;124musecols\u001B[39m\u001B[38;5;124m\"\u001B[39m] \u001B[38;5;241m=\u001B[39m columns\n\u001B[1;32m    141\u001B[0m \u001B[38;5;66;03m# Call `pandas_read_text`\u001B[39;00m\n\u001B[0;32m--> 142\u001B[0m df \u001B[38;5;241m=\u001B[39m pandas_read_text(\n\u001B[1;32m    143\u001B[0m     \u001B[38;5;28mself\u001B[39m\u001B[38;5;241m.\u001B[39mreader,\n\u001B[1;32m    144\u001B[0m     block,\n\u001B[1;32m    145\u001B[0m     \u001B[38;5;28mself\u001B[39m\u001B[38;5;241m.\u001B[39mheader,\n\u001B[1;32m    146\u001B[0m     rest_kwargs,\n\u001B[1;32m    147\u001B[0m     \u001B[38;5;28mself\u001B[39m\u001B[38;5;241m.\u001B[39mdtypes,\n\u001B[1;32m    148\u001B[0m     columns,\n\u001B[1;32m    149\u001B[0m     write_header,\n\u001B[1;32m    150\u001B[0m     \u001B[38;5;28mself\u001B[39m\u001B[38;5;241m.\u001B[39menforce,\n\u001B[1;32m    151\u001B[0m     path_info,\n\u001B[1;32m    152\u001B[0m )\n\u001B[1;32m    153\u001B[0m \u001B[38;5;28;01mif\u001B[39;00m project_after_read:\n\u001B[1;32m    154\u001B[0m     \u001B[38;5;28;01mreturn\u001B[39;00m df[\u001B[38;5;28mself\u001B[39m\u001B[38;5;241m.\u001B[39mcolumns]\n",
      "File \u001B[0;32m~/anaconda3/lib/python3.11/site-packages/dask/dataframe/io/csv.py:197\u001B[0m, in \u001B[0;36mpandas_read_text\u001B[0;34m(reader, b, header, kwargs, dtypes, columns, write_header, enforce, path)\u001B[0m\n\u001B[1;32m    195\u001B[0m df \u001B[38;5;241m=\u001B[39m reader(bio, \u001B[38;5;241m*\u001B[39m\u001B[38;5;241m*\u001B[39mkwargs)\n\u001B[1;32m    196\u001B[0m \u001B[38;5;28;01mif\u001B[39;00m dtypes:\n\u001B[0;32m--> 197\u001B[0m     coerce_dtypes(df, dtypes)\n\u001B[1;32m    199\u001B[0m \u001B[38;5;28;01mif\u001B[39;00m enforce \u001B[38;5;129;01mand\u001B[39;00m columns \u001B[38;5;129;01mand\u001B[39;00m (\u001B[38;5;28mlist\u001B[39m(df\u001B[38;5;241m.\u001B[39mcolumns) \u001B[38;5;241m!=\u001B[39m \u001B[38;5;28mlist\u001B[39m(columns)):\n\u001B[1;32m    200\u001B[0m     \u001B[38;5;28;01mraise\u001B[39;00m \u001B[38;5;167;01mValueError\u001B[39;00m(\u001B[38;5;124m\"\u001B[39m\u001B[38;5;124mColumns do not match\u001B[39m\u001B[38;5;124m\"\u001B[39m, df\u001B[38;5;241m.\u001B[39mcolumns, columns)\n",
      "File \u001B[0;32m~/anaconda3/lib/python3.11/site-packages/dask/dataframe/io/csv.py:298\u001B[0m, in \u001B[0;36mcoerce_dtypes\u001B[0;34m(df, dtypes)\u001B[0m\n\u001B[1;32m    294\u001B[0m rule \u001B[38;5;241m=\u001B[39m \u001B[38;5;124m\"\u001B[39m\u001B[38;5;130;01m\\n\u001B[39;00m\u001B[38;5;130;01m\\n\u001B[39;00m\u001B[38;5;132;01m%s\u001B[39;00m\u001B[38;5;130;01m\\n\u001B[39;00m\u001B[38;5;130;01m\\n\u001B[39;00m\u001B[38;5;124m\"\u001B[39m \u001B[38;5;241m%\u001B[39m (\u001B[38;5;124m\"\u001B[39m\u001B[38;5;124m-\u001B[39m\u001B[38;5;124m\"\u001B[39m \u001B[38;5;241m*\u001B[39m \u001B[38;5;241m61\u001B[39m)\n\u001B[1;32m    295\u001B[0m msg \u001B[38;5;241m=\u001B[39m \u001B[38;5;124m\"\u001B[39m\u001B[38;5;124mMismatched dtypes found in `pd.read_csv`/`pd.read_table`.\u001B[39m\u001B[38;5;130;01m\\n\u001B[39;00m\u001B[38;5;130;01m\\n\u001B[39;00m\u001B[38;5;132;01m%s\u001B[39;00m\u001B[38;5;124m\"\u001B[39m \u001B[38;5;241m%\u001B[39m (\n\u001B[1;32m    296\u001B[0m     rule\u001B[38;5;241m.\u001B[39mjoin(\u001B[38;5;28mfilter\u001B[39m(\u001B[38;5;28;01mNone\u001B[39;00m, [dtype_msg, date_msg]))\n\u001B[1;32m    297\u001B[0m )\n\u001B[0;32m--> 298\u001B[0m \u001B[38;5;28;01mraise\u001B[39;00m \u001B[38;5;167;01mValueError\u001B[39;00m(msg)\n",
      "\u001B[0;31mValueError\u001B[0m: Mismatched dtypes found in `pd.read_csv`/`pd.read_table`.\n\n+--------+--------+----------+\n| Column | Found  | Expected |\n+--------+--------+----------+\n| Man    | object | float64  |\n+--------+--------+----------+\n\nThe following columns also raised exceptions on conversion:\n\n- Man\n  ValueError(\"could not convert string to float: '(nan, nan, nan, nan)'\")\n\nUsually this is due to dask's dtype inference failing, and\n*may* be fixed by specifying dtypes manually by adding:\n\ndtype={'Man': 'object'}\n\nto the call to `read_csv`/`read_table`."
     ]
    }
   ],
   "source": [
    "df_sampled.to_csv(\"minified_data.csv\", single_file=True, index=False, compute=True)"
   ],
   "metadata": {
    "collapsed": false,
    "ExecuteTime": {
     "end_time": "2024-03-12T18:41:53.084705Z",
     "start_time": "2024-03-12T18:41:44.185759Z"
    }
   },
   "id": "f78450d0e89929fa"
  },
  {
   "cell_type": "code",
   "execution_count": null,
   "outputs": [],
   "source": [],
   "metadata": {
    "collapsed": false
   },
   "id": "cbc8527cc5e551a7"
  }
 ],
 "metadata": {
  "kernelspec": {
   "display_name": "Python 3",
   "language": "python",
   "name": "python3"
  },
  "language_info": {
   "codemirror_mode": {
    "name": "ipython",
    "version": 2
   },
   "file_extension": ".py",
   "mimetype": "text/x-python",
   "name": "python",
   "nbconvert_exporter": "python",
   "pygments_lexer": "ipython2",
   "version": "2.7.6"
  }
 },
 "nbformat": 4,
 "nbformat_minor": 5
}
